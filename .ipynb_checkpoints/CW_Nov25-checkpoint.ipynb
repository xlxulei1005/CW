{
 "cells": [
  {
   "cell_type": "code",
   "execution_count": 22,
   "metadata": {
    "collapsed": true,
    "deletable": true,
    "editable": true
   },
   "outputs": [],
   "source": [
    "import pandas as pd\n",
    "import numpy as np\n",
    "import torch.nn as nn\n",
    "from torch.autograd import Variable\n",
    "import torch.nn.functional as F\n",
    "import torch\n",
    "import matplotlib.pyplot as plt"
   ]
  },
  {
   "cell_type": "code",
   "execution_count": 3,
   "metadata": {
    "collapsed": false,
    "deletable": true,
    "editable": true
   },
   "outputs": [],
   "source": [
    "dataset = pd.read_pickle('../MIMIC40/data_40_correct.pkl')"
   ]
  },
  {
   "cell_type": "code",
   "execution_count": 4,
   "metadata": {
    "collapsed": true,
    "deletable": true,
    "editable": true
   },
   "outputs": [],
   "source": [
    "patient_feature = dataset[0]\n",
    "label = dataset[1]\n",
    "label_time = dataset[2]"
   ]
  },
  {
   "cell_type": "code",
   "execution_count": 20,
   "metadata": {
    "collapsed": false
   },
   "outputs": [
    {
     "data": {
      "text/plain": [
       "(2442, 1)"
      ]
     },
     "execution_count": 20,
     "metadata": {},
     "output_type": "execute_result"
    }
   ],
   "source": [
    "max(label_time),min(label_time)"
   ]
  },
  {
   "cell_type": "code",
   "execution_count": 30,
   "metadata": {
    "collapsed": false
   },
   "outputs": [
    {
     "data": {
      "image/png": "[encoded data removed]",
      "text/plain": [
       "<matplotlib.figure.Figure at 0x125f6beb8>"
      ]
     },
     "metadata": {},
     "output_type": "display_data"
    }
   ],
   "source": [
    "plt.hist(label_time,bins = 1000)\n",
    "plt.show()"
   ]
  },
  {
   "cell_type": "code",
   "execution_count": null,
   "metadata": {
    "collapsed": true,
    "deletable": true,
    "editable": true
   },
   "outputs": [],
   "source": [
    "###Readin Data"
   ]
  },
  {
   "cell_type": "code",
   "execution_count": 118,
   "metadata": {
    "collapsed": true,
    "deletable": true,
    "editable": true
   },
   "outputs": [],
   "source": [
    "tryme2 = np.ones((5,4))"
   ]
  },
  {
   "cell_type": "code",
   "execution_count": 95,
   "metadata": {
    "collapsed": false,
    "deletable": true,
    "editable": true
   },
   "outputs": [
    {
     "data": {
      "text/plain": [
       "array([[ 1.,  1.,  0.,  1.],\n",
       "       [ 1.,  1.,  1.,  1.],\n",
       "       [ 1.,  1.,  0.,  1.]])"
      ]
     },
     "execution_count": 95,
     "metadata": {},
     "output_type": "execute_result"
    }
   ],
   "source": [
    "tryme2"
   ]
  },
  {
   "cell_type": "code",
   "execution_count": 121,
   "metadata": {
    "collapsed": false,
    "deletable": true,
    "editable": true
   },
   "outputs": [],
   "source": [
    "tryme2[[2:4, ],2] = 0"
   ]
  },
  {
   "cell_type": "code",
   "execution_count": 79,
   "metadata": {
    "collapsed": false,
    "deletable": true,
    "editable": true,
    "scrolled": true
   },
   "outputs": [
    {
     "data": {
      "text/plain": [
       "array([ 1.,  2.,  2.,  3.,  3.,  3.])"
      ]
     },
     "execution_count": 79,
     "metadata": {},
     "output_type": "execute_result"
    }
   ],
   "source": [
    "a = np.tril(np.ones((3,3))*(np.array([1,2,3]).reshape(3,1))).flatten()\n",
    "a[np.nonzero(a)]"
   ]
  },
  {
   "cell_type": "code",
   "execution_count": 96,
   "metadata": {
    "collapsed": true,
    "deletable": true,
    "editable": true
   },
   "outputs": [],
   "source": [
    "x = [[i]*i for i in [1,2,4]]"
   ]
  },
  {
   "cell_type": "code",
   "execution_count": 98,
   "metadata": {
    "collapsed": false,
    "deletable": true,
    "editable": true
   },
   "outputs": [],
   "source": [
    "x = sum(x,[])"
   ]
  },
  {
   "cell_type": "code",
   "execution_count": 99,
   "metadata": {
    "collapsed": false,
    "deletable": true,
    "editable": true
   },
   "outputs": [
    {
     "data": {
      "text/plain": [
       "[1, 2, 2, 4, 4, 4, 4]"
      ]
     },
     "execution_count": 99,
     "metadata": {},
     "output_type": "execute_result"
    }
   ],
   "source": [
    "x"
   ]
  },
  {
   "cell_type": "code",
   "execution_count": 111,
   "metadata": {
    "collapsed": false,
    "deletable": true,
    "editable": true
   },
   "outputs": [
    {
     "data": {
      "text/plain": [
       "1"
      ]
     },
     "execution_count": 111,
     "metadata": {},
     "output_type": "execute_result"
    }
   ],
   "source": [
    "4%3"
   ]
  },
  {
   "cell_type": "code",
   "execution_count": 127,
   "metadata": {
    "collapsed": false,
    "deletable": true,
    "editable": true
   },
   "outputs": [],
   "source": [
    "group = 2\n",
    "unit = 14\n",
    "mtrx = np.zeros((unit, unit))\n",
    "for i in range(int(unit/group)):\n",
    "    sequence = list(np.arange(i, unit/group))\n",
    "    #print(sequence)\n",
    "    sequence = [int(j) for j in sequence if (j - i)%x[i] == 0]\n",
    "    ##print(sequence)\n",
    "    for index in sequence:\n",
    "        mtrx[index*group:(index+1)*group,i*group:(i+1)*group] = 1"
   ]
  },
  {
   "cell_type": "code",
   "execution_count": 128,
   "metadata": {
    "collapsed": false,
    "deletable": true,
    "editable": true
   },
   "outputs": [
    {
     "data": {
      "text/plain": [
       "array([[ 1.,  1.,  0.,  0.,  0.,  0.,  0.,  0.,  0.,  0.,  0.,  0.,  0.,\n",
       "         0.],\n",
       "       [ 1.,  1.,  0.,  0.,  0.,  0.,  0.,  0.,  0.,  0.,  0.,  0.,  0.,\n",
       "         0.],\n",
       "       [ 1.,  1.,  1.,  1.,  0.,  0.,  0.,  0.,  0.,  0.,  0.,  0.,  0.,\n",
       "         0.],\n",
       "       [ 1.,  1.,  1.,  1.,  0.,  0.,  0.,  0.,  0.,  0.,  0.,  0.,  0.,\n",
       "         0.],\n",
       "       [ 1.,  1.,  0.,  0.,  1.,  1.,  0.,  0.,  0.,  0.,  0.,  0.,  0.,\n",
       "         0.],\n",
       "       [ 1.,  1.,  0.,  0.,  1.,  1.,  0.,  0.,  0.,  0.,  0.,  0.,  0.,\n",
       "         0.],\n",
       "       [ 1.,  1.,  1.,  1.,  0.,  0.,  1.,  1.,  0.,  0.,  0.,  0.,  0.,\n",
       "         0.],\n",
       "       [ 1.,  1.,  1.,  1.,  0.,  0.,  1.,  1.,  0.,  0.,  0.,  0.,  0.,\n",
       "         0.],\n",
       "       [ 1.,  1.,  0.,  0.,  1.,  1.,  0.,  0.,  1.,  1.,  0.,  0.,  0.,\n",
       "         0.],\n",
       "       [ 1.,  1.,  0.,  0.,  1.,  1.,  0.,  0.,  1.,  1.,  0.,  0.,  0.,\n",
       "         0.],\n",
       "       [ 1.,  1.,  1.,  1.,  0.,  0.,  0.,  0.,  0.,  0.,  1.,  1.,  0.,\n",
       "         0.],\n",
       "       [ 1.,  1.,  1.,  1.,  0.,  0.,  0.,  0.,  0.,  0.,  1.,  1.,  0.,\n",
       "         0.],\n",
       "       [ 1.,  1.,  0.,  0.,  1.,  1.,  0.,  0.,  0.,  0.,  0.,  0.,  1.,\n",
       "         1.],\n",
       "       [ 1.,  1.,  0.,  0.,  1.,  1.,  0.,  0.,  0.,  0.,  0.,  0.,  1.,\n",
       "         1.]])"
      ]
     },
     "execution_count": 128,
     "metadata": {},
     "output_type": "execute_result"
    }
   ],
   "source": [
    "mtrx"
   ]
  },
  {
   "cell_type": "code",
   "execution_count": 136,
   "metadata": {
    "collapsed": false,
    "deletable": true,
    "editable": true
   },
   "outputs": [
    {
     "data": {
      "text/plain": [
       "array([[ True,  True,  True,  True,  True,  True,  True,  True,  True,\n",
       "         True,  True,  True,  True,  True],\n",
       "       [ True,  True,  True,  True,  True,  True,  True,  True,  True,\n",
       "         True,  True,  True,  True,  True],\n",
       "       [ True,  True,  True,  True,  True,  True,  True,  True,  True,\n",
       "         True,  True,  True,  True,  True],\n",
       "       [ True,  True,  True,  True,  True,  True,  True,  True,  True,\n",
       "         True,  True,  True,  True,  True],\n",
       "       [ True,  True,  True,  True,  True,  True,  True,  True,  True,\n",
       "         True,  True,  True,  True,  True],\n",
       "       [ True,  True,  True,  True,  True,  True,  True,  True,  True,\n",
       "         True,  True,  True,  True,  True],\n",
       "       [ True,  True,  True,  True,  True,  True,  True,  True,  True,\n",
       "         True,  True,  True,  True,  True],\n",
       "       [ True,  True,  True,  True,  True,  True,  True,  True,  True,\n",
       "         True,  True,  True,  True,  True],\n",
       "       [ True,  True,  True,  True,  True,  True,  True,  True,  True,\n",
       "         True,  True,  True,  True,  True],\n",
       "       [ True,  True,  True,  True,  True,  True,  True,  True,  True,\n",
       "         True,  True,  True,  True,  True],\n",
       "       [ True,  True,  True,  True,  True,  True,  True,  True,  True,\n",
       "         True,  True,  True,  True,  True],\n",
       "       [ True,  True,  True,  True,  True,  True,  True,  True,  True,\n",
       "         True,  True,  True,  True,  True],\n",
       "       [ True,  True,  True,  True,  True,  True,  True,  True,  True,\n",
       "         True,  True,  True,  True,  True],\n",
       "       [ True,  True,  True,  True,  True,  True,  True,  True,  True,\n",
       "         True,  True,  True,  True,  True]], dtype=bool)"
      ]
     },
     "execution_count": 136,
     "metadata": {},
     "output_type": "execute_result"
    }
   ],
   "source": [
    "block_tri(2,[1,2,4],14, mode = 'shift') == mtrx"
   ]
  },
  {
   "cell_type": "code",
   "execution_count": null,
   "metadata": {
    "collapsed": true,
    "deletable": true,
    "editable": true
   },
   "outputs": [],
   "source": [
    "torch.from_numpy(np.array()).type(torch.FloatTensor)\n",
    "\n",
    "tryme = torch.Tensor([[1,2],[2,3]])\n",
    "\n",
    "tryme"
   ]
  },
  {
   "cell_type": "code",
   "execution_count": 134,
   "metadata": {
    "collapsed": false,
    "deletable": true,
    "editable": true
   },
   "outputs": [],
   "source": [
    "### Helper function\n",
    "def block_tri(group_size,scale, num_units, mode = 'original'):\n",
    "    '''\n",
    "    group_size: the size of each group\n",
    "    num_units: group_size x sum(scale)\n",
    "    mode: the way of connection, original, shift, fully connect\n",
    "    return: tensor mask\n",
    "    '''\n",
    "    mtrx = np.zeros((num_units, num_units))\n",
    "    if mode == 'original':\n",
    "        for i in range(num_units/group_size - 1):\n",
    "            mtrx[i*group_size: , i*group_size:(i+1)*group_size] = 1\n",
    "    elif mode == 'shift': \n",
    "        mtrx = np.zeros((num_units, num_units))\n",
    "        for i in range(int(num_units/group_size)):\n",
    "            refer_li = sum([[i]*i for i in scale],[])\n",
    "            length = refer_li[i]\n",
    "            sequence = list(np.arange(i, num_units/group_size))\n",
    "            #print(sequence)\n",
    "            sequence = [int(j) for j in sequence if (j - i)%length == 0]\n",
    "            ##print(sequence)\n",
    "            for index in sequence:\n",
    "                mtrx[index*group_size:(index+1)*group_size,i*group_size:(i+1)*group_size] = 1\n",
    "    return mtrx \n",
    "\n",
    "#def activate_index()"
   ]
  },
  {
   "cell_type": "code",
   "execution_count": 15,
   "metadata": {
    "collapsed": true
   },
   "outputs": [],
   "source": [
    "def activate_index(timestep, num_units, group_size, scale,index_li):\n",
    "    '''\n",
    "    timestep: the current timestep in a sequence\n",
    "    num_units: dimension of hidden layer\n",
    "    group_size: number of nodes in each group\n",
    "    scale: the range of update frequency\n",
    "    index_li: the index of each scale start point. dictionary. scale: position\n",
    "    return: a matrix with 0 and 1. 1 for active rows\n",
    "    '''\n",
    "    activation_map = np.zeros((num_units,num_units))\n",
    "    for i in scale:\n",
    "        remain = timestep%i\n",
    "        if remain == 0:\n",
    "            index_temp = index_li[i]\n",
    "            activation_map[index_temp*group_size:(index_temp+1)*group_size,:] = np.ones((group_size,num_units))\n",
    "        else:\n",
    "            index_temp = i - remain + index_li[i]\n",
    "            activation_map[index_temp*group_size:(index_temp+1)*group_size,:] = np.ones((group_size,num_units))\n",
    "    return torch.from_numpy(activation_map).float()\n",
    "### make it a tensor"
   ]
  },
  {
   "cell_type": "code",
   "execution_count": 12,
   "metadata": {
    "collapsed": false
   },
   "outputs": [
    {
     "data": {
      "text/plain": [
       "array([[ 1.,  1.,  1.,  1.,  1.,  1.,  1.,  1.,  1.,  1.,  1.,  1.,  1.,\n",
       "         1.],\n",
       "       [ 1.,  1.,  1.,  1.,  1.,  1.,  1.,  1.,  1.,  1.,  1.,  1.,  1.,\n",
       "         1.],\n",
       "       [ 0.,  0.,  0.,  0.,  0.,  0.,  0.,  0.,  0.,  0.,  0.,  0.,  0.,\n",
       "         0.],\n",
       "       [ 0.,  0.,  0.,  0.,  0.,  0.,  0.,  0.,  0.,  0.,  0.,  0.,  0.,\n",
       "         0.],\n",
       "       [ 1.,  1.,  1.,  1.,  1.,  1.,  1.,  1.,  1.,  1.,  1.,  1.,  1.,\n",
       "         1.],\n",
       "       [ 1.,  1.,  1.,  1.,  1.,  1.,  1.,  1.,  1.,  1.,  1.,  1.,  1.,\n",
       "         1.],\n",
       "       [ 0.,  0.,  0.,  0.,  0.,  0.,  0.,  0.,  0.,  0.,  0.,  0.,  0.,\n",
       "         0.],\n",
       "       [ 0.,  0.,  0.,  0.,  0.,  0.,  0.,  0.,  0.,  0.,  0.,  0.,  0.,\n",
       "         0.],\n",
       "       [ 1.,  1.,  1.,  1.,  1.,  1.,  1.,  1.,  1.,  1.,  1.,  1.,  1.,\n",
       "         1.],\n",
       "       [ 1.,  1.,  1.,  1.,  1.,  1.,  1.,  1.,  1.,  1.,  1.,  1.,  1.,\n",
       "         1.],\n",
       "       [ 0.,  0.,  0.,  0.,  0.,  0.,  0.,  0.,  0.,  0.,  0.,  0.,  0.,\n",
       "         0.],\n",
       "       [ 0.,  0.,  0.,  0.,  0.,  0.,  0.,  0.,  0.,  0.,  0.,  0.,  0.,\n",
       "         0.],\n",
       "       [ 0.,  0.,  0.,  0.,  0.,  0.,  0.,  0.,  0.,  0.,  0.,  0.,  0.,\n",
       "         0.],\n",
       "       [ 0.,  0.,  0.,  0.,  0.,  0.,  0.,  0.,  0.,  0.,  0.,  0.,  0.,\n",
       "         0.]])"
      ]
     },
     "execution_count": 12,
     "metadata": {},
     "output_type": "execute_result"
    }
   ],
   "source": [
    "activate_index(7,14,2,[1,2,4],{1:0,2:1,4:3})"
   ]
  },
  {
   "cell_type": "code",
   "execution_count": 32,
   "metadata": {
    "collapsed": false
   },
   "outputs": [],
   "source": [
    "a = torch.from_numpy(np.array([[1,2,3],[4,5,6]]))\n",
    "b = torch.from_numpy(np.array([[2,3,4],[4,5,6]]))\n",
    "c = a*b"
   ]
  },
  {
   "cell_type": "code",
   "execution_count": 33,
   "metadata": {
    "collapsed": false
   },
   "outputs": [
    {
     "data": {
      "text/plain": [
       "\n",
       "  2   6  12\n",
       " 16  25  36\n",
       "[torch.LongTensor of size 2x3]"
      ]
     },
     "execution_count": 33,
     "metadata": {},
     "output_type": "execute_result"
    }
   ],
   "source": [
    "c"
   ]
  },
  {
   "cell_type": "code",
   "execution_count": 36,
   "metadata": {
    "collapsed": false
   },
   "outputs": [
    {
     "data": {
      "text/plain": [
       "\n",
       "  2\n",
       "  6\n",
       " 12\n",
       "[torch.LongTensor of size 3]"
      ]
     },
     "execution_count": 36,
     "metadata": {},
     "output_type": "execute_result"
    }
   ],
   "source": [
    "c[-2,]"
   ]
  },
  {
   "cell_type": "code",
   "execution_count": null,
   "metadata": {
    "collapsed": true,
    "deletable": true,
    "editable": true
   },
   "outputs": [],
   "source": [
    "### Model\n",
    "#forward\n",
    "#cell_class, step\n",
    "class Clock_NN(nn.Module):\n",
    "    def __init__(self, scale, group_size = 1, activation_fun = F.relu, mean = 0, std = 0.1, input_dim = 48)\n",
    "        '''\n",
    "        scale: the updating frequency, a list. [1,2,4,8,16,32]\n",
    "        group_size: the number of nodes in each scale, default is 1.\n",
    "        activation_function\n",
    "        mean: the mean of Gaussian distribution for initialize weights for hidden layer\n",
    "        std: the standard devation of the Gaussian distribution for initialize weights for hidden layer\n",
    "        input_dim: the feature dimension of each time step\n",
    "        '''\n",
    "        self.scale = scale\n",
    "        self.group_size = group_size\n",
    "        if mode = 'orginal':\n",
    "            self.num_units = self.scale*self.group_size\n",
    "        elif mode = 'shift':\n",
    "            self.num_units = sum(self.scale)*self.group_size\n",
    "            \n",
    "        self.class_dim = 2\n",
    "        self.input_dim = input_dim\n",
    "        self.linear_h = self.Linear(self.num_units,self.num_units)\n",
    "        self.linear_o = self.Linear(self.num_units,self.class_dim)\n",
    "        self.linear_i = self.Linear(self.num_units,self.input_dim)\n",
    "        self.activation_fun = activation_fun\n",
    "        self.connect = torch.from_numpy(block_tri(self.group_size, self.scale, self.num_units)).float()\n",
    "        self.time_step = 0\n",
    "        self.index_li = {i:i-1 for i in self.scale}\n",
    "        \n",
    "        self.initial_weights(mean, std)\n",
    "        \n",
    "    def forward(self, sequence, hidden)#depends on what passed for model.train(), to be filled)\n",
    "        '''\n",
    "        sequence: number_feature x timestep matrix\n",
    "        hidden: should be h0\n",
    "        '''     \n",
    "        hidden_output = []\n",
    "        logit = []\n",
    "        for i in range(1,len(sequence)+1):\n",
    "            self.time_step += 1\n",
    "            #backwards, want discharge/dead time aligns\n",
    "            hidden = self.CW_RNN_Cell(sequence[-i], hidden)\n",
    "            hidden_output.append(hidden)\n",
    "            out = self.linear_o(hidden)\n",
    "            logit.append(F.log_softmax(out))\n",
    "        return hidden_output, logit\n",
    "            \n",
    "                \n",
    "    def CW_RNN_Cell(self, x_input, hidden):\n",
    "        '''\n",
    "        x_input: number_feature x 1 vector, representing one time stamp\n",
    "        hidden: output of the last cell, should be hidden_dim(i.e. num_units) x 1\n",
    "        '''\n",
    "        activate = activate_index(self.time_step, self.num_units, self.group_size, self.scale,self.index_li)\n",
    "        ### TODO: add leakage\n",
    "        hidden_next = self.linear_h(hidden)*self.connect*activate + self.linear_i(x_input)*activate\n",
    "        hidden_next = self.activation_fun(hidden_next)\n",
    "        return hidden_next\n",
    "\n",
    "    def init_hidden(self, bsz):\n",
    "        h0 = Variable(torch.zeros(self.num_units,1))\n",
    "        return h0\n",
    "        \n",
    "    def initial_weights(self, mean, std):\n",
    "        lin_layers = [self.linear_h, self.linear]\n",
    "        for layer in lin_layers:\n",
    "            layer.weight.data.normal_(mean, std**2)\n",
    "            layer.bias.data.fill_(0)\n",
    "    "
   ]
  },
  {
   "cell_type": "code",
   "execution_count": 41,
   "metadata": {
    "collapsed": false
   },
   "outputs": [
    {
     "data": {
      "text/plain": [
       "\n",
       " 0\n",
       " 0\n",
       "[torch.FloatTensor of size 2x1]"
      ]
     },
     "execution_count": 41,
     "metadata": {},
     "output_type": "execute_result"
    }
   ],
   "source": [
    "torch.zeros(2,1)"
   ]
  },
  {
   "cell_type": "code",
   "execution_count": null,
   "metadata": {
    "collapsed": true,
    "deletable": true,
    "editable": true
   },
   "outputs": [],
   "source": [
    "### Training\n",
    "model = Clock_NN(scale, group_size = 1, activation_fun = F.relu, mean = 0, std = 0.1, input_dim = 48)"
   ]
  },
  {
   "cell_type": "code",
   "execution_count": null,
   "metadata": {
    "collapsed": true
   },
   "outputs": [],
   "source": [
    "def training_loop(num_epochs, model, criterion, optim):\n",
    "    step = 1\n",
    "    total_batches = int(len(training_set) / batch_size)\n",
    "\n",
    "    for i in range(num_epochs):\n",
    "        #model.train()      \n",
    "        #define a data loader and one by one bzs =1\n",
    "        ###DATALOADER\n",
    "        model.zero_grad()     \n",
    "        hidden= model.init_hidden()\n",
    "        hidden, output = model(inputs, hidden)\n",
    "         # batch_size, seq_len, hid --> b*s,h\n",
    "        output = torch.stack(output, dim=0) #should be time_len x class_num\n",
    "        target = target.view(len(sequence),-1) #target is Variable and scaled to the length of timestep\n",
    "        lossy = criterion(output_flat, targets)\n",
    "        lossy.backward()\n",
    "        optim.step()"
   ]
  },
  {
   "cell_type": "code",
   "execution_count": null,
   "metadata": {
    "collapsed": true
   },
   "outputs": [],
   "source": []
  },
  {
   "cell_type": "code",
   "execution_count": null,
   "metadata": {
    "collapsed": true,
    "deletable": true,
    "editable": true
   },
   "outputs": [],
   "source": [
    "### Evaluation"
   ]
  }
 ],
 "metadata": {
  "kernelspec": {
   "display_name": "Python 3",
   "language": "python",
   "name": "python3"
  },
  "language_info": {
   "codemirror_mode": {
    "name": "ipython",
    "version": 3
   },
   "file_extension": ".py",
   "mimetype": "text/x-python",
   "name": "python",
   "nbconvert_exporter": "python",
   "pygments_lexer": "ipython3",
   "version": "3.6.0"
  }
 },
 "nbformat": 4,
 "nbformat_minor": 2
}
