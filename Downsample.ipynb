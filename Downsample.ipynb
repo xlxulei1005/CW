{
 "cells": [
  {
   "cell_type": "code",
   "execution_count": 1,
   "metadata": {
    "collapsed": true
   },
   "outputs": [],
   "source": [
    "import pandas as pd\n",
    "import numpy as np\n",
    "import torch.nn as nn\n",
    "from torch.autograd import Variable\n",
    "import torch.nn.functional as F\n",
    "import torch\n",
    "from torch.utils.data import Dataset\n",
    "import matplotlib.pyplot as plt\n",
    "from collections import Counter"
   ]
  },
  {
   "cell_type": "code",
   "execution_count": 2,
   "metadata": {
    "collapsed": true
   },
   "outputs": [],
   "source": [
    "import pickle"
   ]
  },
  {
   "cell_type": "code",
   "execution_count": 3,
   "metadata": {
    "collapsed": true
   },
   "outputs": [],
   "source": [
    "dataset = pd.read_pickle('../MIMIC40/data_40_correct.pkl')\n",
    "\n",
    "ori_patient_feature = dataset[0] #before cleaning, original data\n",
    "ori_label = dataset[1]\n",
    "ori_label_time = dataset[2]"
   ]
  },
  {
   "cell_type": "code",
   "execution_count": 4,
   "metadata": {
    "collapsed": true
   },
   "outputs": [],
   "source": [
    "def downsample(dataset):\n",
    "    \n",
    "    ori_patient_feature = dataset[0] #before cleaning, original data\n",
    "    ori_label = dataset[1]\n",
    "    ori_label_time = dataset[2]\n",
    "    \n",
    "    down_sample_index = np.random.randint(0,Counter(ori_label)[0]+1,Counter(ori_label)[1]*2)\n",
    "    downsampled_features = ori_patient_feature[ori_label==0][down_sample_index]\n",
    "    downsampled_label = ori_label[ori_label==0][down_sample_index]\n",
    "    downsampled_label_time = ori_label_time[ori_label==0][down_sample_index]\n",
    "    \n",
    "    new_features = np.concatenate([downsampled_features, ori_patient_feature[ori_label==1]])\n",
    "    new_label = np.concatenate([downsampled_label, ori_label[ori_label==1]])\n",
    "    new_label_time = np.concatenate([downsampled_label_time, ori_label_time[ori_label==1]])\n",
    "    \n",
    "    return new_features,new_label,new_label_time"
   ]
  },
  {
   "cell_type": "code",
   "execution_count": 5,
   "metadata": {
    "collapsed": true
   },
   "outputs": [],
   "source": [
    "patient_feature = ori_patient_feature\n",
    "label = ori_label\n",
    "label_time = ori_label_time"
   ]
  },
  {
   "cell_type": "code",
   "execution_count": null,
   "metadata": {
    "collapsed": true
   },
   "outputs": [],
   "source": []
  },
  {
   "cell_type": "markdown",
   "metadata": {},
   "source": [
    "# Train Test Split"
   ]
  },
  {
   "cell_type": "code",
   "execution_count": 6,
   "metadata": {
    "collapsed": true
   },
   "outputs": [],
   "source": [
    "idx_arr = list(range(len(patient_feature)))\n",
    "np.random.shuffle(idx_arr)\n",
    "\n",
    "patient_feature_train, patient_feature_val, patient_feature_test = \\\n",
    "patient_feature[idx_arr[:16200]],patient_feature[idx_arr[16200:20800]],patient_feature[idx_arr[20800:]]\n",
    "label_train, label_val, label_test = \\\n",
    "label[idx_arr[:16200]],label[idx_arr[16200:20800]],label[idx_arr[20800:]]\n",
    "label_time_train, label_time_val, label_time_test = \\\n",
    "label_time[idx_arr[:16200]],label_time[idx_arr[16200:20800]],label_time[idx_arr[20800:]]"
   ]
  },
  {
   "cell_type": "code",
   "execution_count": 7,
   "metadata": {
    "collapsed": true
   },
   "outputs": [],
   "source": [
    "train_data = {}\n",
    "train_data[0] = patient_feature_train\n",
    "train_data[1] = label_train\n",
    "train_data[2] = label_time_train"
   ]
  },
  {
   "cell_type": "code",
   "execution_count": 8,
   "metadata": {
    "collapsed": true
   },
   "outputs": [],
   "source": [
    "valid_data = {}\n",
    "valid_data[0] = patient_feature_val\n",
    "valid_data[1] = label_val\n",
    "valid_data[2] = label_time_val"
   ]
  },
  {
   "cell_type": "code",
   "execution_count": 9,
   "metadata": {
    "collapsed": true
   },
   "outputs": [],
   "source": [
    "test_data = {}\n",
    "test_data[0] = patient_feature_test\n",
    "test_data[1] = label_test\n",
    "test_data[2] = label_time_test"
   ]
  },
  {
   "cell_type": "code",
   "execution_count": 11,
   "metadata": {
    "collapsed": true
   },
   "outputs": [],
   "source": [
    "pickle.dump( train_data, open( \"train_data.p\", \"wb\" ) )"
   ]
  },
  {
   "cell_type": "code",
   "execution_count": 12,
   "metadata": {
    "collapsed": true
   },
   "outputs": [],
   "source": [
    "pickle.dump( valid_data, open( \"valid_data.p\", \"wb\" ) )\n",
    "pickle.dump( test_data, open( \"test_data.p\", \"wb\" ) )"
   ]
  },
  {
   "cell_type": "code",
   "execution_count": null,
   "metadata": {},
   "outputs": [],
   "source": []
  },
  {
   "cell_type": "code",
   "execution_count": null,
   "metadata": {},
   "outputs": [],
   "source": []
  },
  {
   "cell_type": "code",
   "execution_count": null,
   "metadata": {},
   "outputs": [],
   "source": []
  },
  {
   "cell_type": "code",
   "execution_count": null,
   "metadata": {},
   "outputs": [],
   "source": []
  },
  {
   "cell_type": "code",
   "execution_count": null,
   "metadata": {},
   "outputs": [],
   "source": []
  },
  {
   "cell_type": "code",
   "execution_count": null,
   "metadata": {
    "collapsed": true
   },
   "outputs": [],
   "source": []
  }
 ],
 "metadata": {
  "kernelspec": {
   "display_name": "Python 3",
   "language": "python",
   "name": "python3"
  },
  "language_info": {
   "codemirror_mode": {
    "name": "ipython",
    "version": 3
   },
   "file_extension": ".py",
   "mimetype": "text/x-python",
   "name": "python",
   "nbconvert_exporter": "python",
   "pygments_lexer": "ipython3",
   "version": "3.6.2"
  }
 },
 "nbformat": 4,
 "nbformat_minor": 2
}
