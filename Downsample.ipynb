{
 "cells": [
  {
   "cell_type": "code",
   "execution_count": 1,
   "metadata": {
    "collapsed": true
   },
   "outputs": [],
   "source": [
    "import pandas as pd\n",
    "import numpy as np\n",
    "import torch.nn as nn\n",
    "from torch.autograd import Variable\n",
    "import torch.nn.functional as F\n",
    "import torch\n",
    "from torch.utils.data import Dataset\n",
    "import matplotlib.pyplot as plt\n",
    "from collections import Counter"
   ]
  },
  {
   "cell_type": "code",
   "execution_count": 2,
   "metadata": {
    "collapsed": true
   },
   "outputs": [],
   "source": [
    "dataset = pd.read_pickle('../MIMIC40/data_40_correct.pkl')\n",
    "\n",
    "ori_patient_feature = dataset[0] #before cleaning, original data\n",
    "ori_label = dataset[1]\n",
    "ori_label_time = dataset[2]"
   ]
  },
  {
   "cell_type": "code",
   "execution_count": 3,
   "metadata": {
    "collapsed": true
   },
   "outputs": [],
   "source": [
    "def downsample(dataset):\n",
    "    \n",
    "    ori_patient_feature = dataset[0] #before cleaning, original data\n",
    "    ori_label = dataset[1]\n",
    "    ori_label_time = dataset[2]\n",
    "    \n",
    "    down_sample_index = np.random.randint(0,Counter(ori_label)[0]+1,Counter(ori_label)[1]*2)\n",
    "    downsampled_features = ori_patient_feature[ori_label==0][down_sample_index]\n",
    "    downsampled_label = ori_label[ori_label==0][down_sample_index]\n",
    "    downsampled_label_time = ori_label_time[ori_label==0][down_sample_index]\n",
    "    \n",
    "    new_features = np.concatenate([downsampled_features, ori_patient_feature[ori_label==1]])\n",
    "    new_label = np.concatenate([downsampled_label, ori_label[ori_label==1]])\n",
    "    new_label_time = np.concatenate([downsampled_label_time, ori_label_time[ori_label==1]])\n",
    "    \n",
    "    return new_features,new_label,new_label_time"
   ]
  },
  {
   "cell_type": "code",
   "execution_count": null,
   "metadata": {
    "collapsed": true
   },
   "outputs": [],
   "source": []
  }
 ],
 "metadata": {
  "kernelspec": {
   "display_name": "Python 3",
   "language": "python",
   "name": "python3"
  },
  "language_info": {
   "codemirror_mode": {
    "name": "ipython",
    "version": 3
   },
   "file_extension": ".py",
   "mimetype": "text/x-python",
   "name": "python",
   "nbconvert_exporter": "python",
   "pygments_lexer": "ipython3",
   "version": "3.6.2"
  }
 },
 "nbformat": 4,
 "nbformat_minor": 2
}
