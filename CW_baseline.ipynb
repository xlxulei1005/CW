{
 "cells": [
  {
   "cell_type": "code",
   "execution_count": 11,
   "metadata": {
    "collapsed": false,
    "deletable": true,
    "editable": true
   },
   "outputs": [],
   "source": [
    "import pandas as pd\n",
    "import numpy as np\n",
    "import torch.nn as nn\n",
    "from torch.autograd import Variable\n",
    "import torch.nn.functional as F\n",
    "import torch\n",
    "from torch.utils.data import Dataset\n",
    "import matplotlib.pyplot as plt\n",
    "from collections import Counter\n",
    "from sklearn.metrics import roc_auc_score\n",
    "from clockwork_helperfunc import *\n",
    "from clockwork_helperfunc import evaluation\n",
    "import clockwork_helperfunc \n",
    "from imp import reload  \n",
    "from tqdm import tqdm\n",
    "reload(clockwork_helperfunc)\n",
    "import time\n",
    "\n",
    "#configuration\n",
    "batch_size = 5\n",
    "num_epochs = 50\n",
    "number_units = 7"
   ]
  },
  {
   "cell_type": "markdown",
   "metadata": {
    "deletable": true,
    "editable": true
   },
   "source": [
    "### Data"
   ]
  },
  {
   "cell_type": "code",
   "execution_count": 2,
   "metadata": {
    "collapsed": false,
    "deletable": true,
    "editable": true
   },
   "outputs": [],
   "source": [
    "training = pd.read_pickle('/Users/leilei/Documents/DS1005/CW/truncate_train_data.p')\n",
    "val = pd.read_pickle('/Users/leilei/Documents/DS1005/CW/truncate_valid_data.p')"
   ]
  },
  {
   "cell_type": "code",
   "execution_count": 3,
   "metadata": {
    "collapsed": false,
    "deletable": true,
    "editable": true
   },
   "outputs": [],
   "source": [
    "patient_feature_train, label_train, label_time_train = downsample(training, proportional = 2)"
   ]
  },
  {
   "cell_type": "code",
   "execution_count": 4,
   "metadata": {
    "collapsed": false,
    "deletable": true,
    "editable": true
   },
   "outputs": [
    {
     "data": {
      "text/plain": [
       "(529367, 232732)"
      ]
     },
     "execution_count": 4,
     "metadata": {},
     "output_type": "execute_result"
    }
   ],
   "source": [
    "sum(label_time_train), sum(label_train*label_time_train)"
   ]
  },
  {
   "cell_type": "code",
   "execution_count": 5,
   "metadata": {
    "collapsed": true,
    "deletable": true,
    "editable": true
   },
   "outputs": [],
   "source": [
    "patient_feature_val = val[0] #before cleaning, original data\n",
    "label_val = val[1]\n",
    "label_time_val = val[2]"
   ]
  },
  {
   "cell_type": "code",
   "execution_count": 6,
   "metadata": {
    "collapsed": false,
    "deletable": true,
    "editable": true
   },
   "outputs": [
    {
     "data": {
      "text/plain": [
       "(Counter({0: 3535, 1: 1790}), Counter({0: 4089, 1: 511}))"
      ]
     },
     "execution_count": 6,
     "metadata": {},
     "output_type": "execute_result"
    }
   ],
   "source": [
    "Counter(label_train), Counter(label_val)"
   ]
  },
  {
   "cell_type": "code",
   "execution_count": 7,
   "metadata": {
    "collapsed": false,
    "deletable": true,
    "editable": true
   },
   "outputs": [
    {
     "data": {
      "text/plain": [
       "5325"
      ]
     },
     "execution_count": 7,
     "metadata": {},
     "output_type": "execute_result"
    }
   ],
   "source": [
    "len(patient_feature_train)"
   ]
  },
  {
   "cell_type": "code",
   "execution_count": 8,
   "metadata": {
    "collapsed": false,
    "deletable": true,
    "editable": true
   },
   "outputs": [
    {
     "data": {
      "text/plain": [
       "{0}"
      ]
     },
     "execution_count": 8,
     "metadata": {},
     "output_type": "execute_result"
    }
   ],
   "source": [
    "set(label_train[:3535])"
   ]
  },
  {
   "cell_type": "markdown",
   "metadata": {
    "deletable": true,
    "editable": true
   },
   "source": [
    "### Model"
   ]
  },
  {
   "cell_type": "code",
   "execution_count": 9,
   "metadata": {
    "collapsed": true,
    "deletable": true,
    "editable": true
   },
   "outputs": [],
   "source": [
    "### Model\n",
    "#forward\n",
    "#cell_class, step\n",
    "class LSTM_Model(nn.Module):\n",
    "    def __init__(self, number_units, batch_size, mean = 0, std = 0.1, input_dim = 40):\n",
    "        super(LSTM_Model, self).__init__()\n",
    "        '''\n",
    "        scale: the updating frequency, a list. [1,2,4,8,16,32]\n",
    "        batch_size: the size of batch\n",
    "        group_size: the number of nodes in each scale, default is 1.\n",
    "        mean: the mean of Gaussian distribution for initialize weights for hidden layer\n",
    "        std: the standard devation of the Gaussian distribution for initialize weights for hidden layer\n",
    "        input_dim: the feature dimension of each time step\n",
    "        '''\n",
    "        self.hidden_dim = number_units\n",
    "        self.input_dim = input_dim\n",
    "        self.batch_size = batch_size\n",
    "\n",
    "        self.lstm = nn.LSTM(self.input_dim, self.hidden_dim)\n",
    "        self.hidden2tag = nn.Linear(self.hidden_dim, 2)\n",
    "        \n",
    "    def forward(self, sequence, hidden):#depends on what passed for model.train(), to be filled)\n",
    "        '''\n",
    "        sequence: batch  x timestep x number_feature matrix\n",
    "        hidden: should be h0\n",
    "        ''' \n",
    "        sequence = sequence.transpose(0,1) #now sequence, batch, num_feature\n",
    "        #print(sequence.size())\n",
    "        #print(hidden[0].size())\n",
    "        lstm_out, hidden = self.lstm(sequence, hidden) #hidden is the last one of sequence\n",
    "        #print('lstm_size')\n",
    "        #print(lstm_out.size())\n",
    "        #print(hidden)\n",
    "        tag_space = self.hidden2tag(lstm_out.view(len(sequence)*self.batch_size, -1))\n",
    "        #previously last step\n",
    "        #self.hidden2tag(hidden[0])\n",
    "        #final_score = F.log_softmax(self.hidden2tag(hidden[0]))\n",
    "        #print(final_score[0])\n",
    "        tag_scores = F.log_softmax(tag_space)       \n",
    "        return tag_scores#, final_score[0]#it is batch * class, the first dimension is 1, so remove it\n",
    "\n",
    "    def init_hidden(self):\n",
    "        return (Variable(torch.zeros(1, self.batch_size, self.hidden_dim)),\n",
    "                Variable(torch.zeros(1, self.batch_size, self.hidden_dim)))\n"
   ]
  },
  {
   "cell_type": "code",
   "execution_count": null,
   "metadata": {
    "collapsed": false,
    "deletable": true,
    "editable": true,
    "scrolled": false
   },
   "outputs": [
    {
     "name": "stderr",
     "output_type": "stream",
     "text": [
      "\r",
      "  0%|          | 0/50 [00:00<?, ?it/s]"
     ]
    },
    {
     "name": "stdout",
     "output_type": "stream",
     "text": [
      "Epoch: 0; Loss: 0.6911388635635376\n"
     ]
    }
   ],
   "source": [
    "lstm = LSTM_Model(number_units, batch_size)\n",
    "loss = torch.nn.CrossEntropyLoss(ignore_index=-1)  \n",
    "optimizer = torch.optim.Adam(lstm.parameters(), lr=0.005)\n",
    "accuracy_list = []\n",
    "train_loader, validation_loader = reload_data(batch_size,patient_feature_train, label_train, label_time_train,patient_feature_val, label_val, label_time_val)\n",
    "start = time.time()\n",
    "for epoch in tqdm(range(num_epochs)):\n",
    "    for step, (data, label,label_list) in enumerate(train_loader):        \n",
    "        data, label = Variable(data), Variable(label)\n",
    "        lstm.zero_grad()\n",
    "        hidden= lstm.init_hidden()\n",
    "        output = lstm(data, hidden)\n",
    "        \n",
    "        label = label.transpose(0,1).contiguous().view(-1) \n",
    "        #output = torch.stack(output, dim=1).view(-1, 2) \n",
    "        #print(output.size())\n",
    "        #print(label.size())\n",
    "        lossy = loss(output, label)\n",
    "        lossy.backward()\n",
    "        optimizer.step()\n",
    "        #print('one_step')\n",
    "        if step % 100 ==0:\n",
    "            print(\"Epoch: {}; Loss: {}\".format(epoch, lossy.data[0]))\n",
    "                #print('accuracy_on_training: {}'.format(evaluation(train_loader))) \n",
    "            acc0, acc1, val_acc, auc = evaluation(validation_loader, lstm,'lstm')\n",
    "            print('accuracy_on_validation: {}, the acc for live is {}, the acc for dead is {}'.format(val_acc, acc0, acc1)) \n",
    "            print('auc ' +str(auc))\n",
    "    accuracy_list.append(val_acc)\n",
    "    if ((epoch > 5) and ((accuracy_list[-1] < (accuracy_list[-2] - 0.01)) or (accuracy_list[-1] < (accuracy_list[-3] - 0.01)))):\n",
    "        print(\"early stop, accuracy = \", accuracy_list[-2])\n",
    "        break     \n",
    "end = time.time()"
   ]
  },
  {
   "cell_type": "code",
   "execution_count": null,
   "metadata": {
    "collapsed": true
   },
   "outputs": [],
   "source": [
    "print(end - start)"
   ]
  },
  {
   "cell_type": "code",
   "execution_count": 88,
   "metadata": {
    "collapsed": false,
    "deletable": true,
    "editable": true
   },
   "outputs": [],
   "source": [
    "### Model\n",
    "#forward\n",
    "#cell_class, step\n",
    "class GRU_Model(nn.Module):\n",
    "    def __init__(self, number_units, batch_size, mean = 0, std = 0.1, input_dim = 48):\n",
    "        super(GRU_Model, self).__init__()\n",
    "        '''\n",
    "        scale: the updating frequency, a list. [1,2,4,8,16,32]\n",
    "        batch_size: the size of batch\n",
    "        group_size: the number of nodes in each scale, default is 1.\n",
    "        mean: the mean of Gaussian distribution for initialize weights for hidden layer\n",
    "        std: the standard devation of the Gaussian distribution for initialize weights for hidden layer\n",
    "        input_dim: the feature dimension of each time step\n",
    "        '''\n",
    "        self.hidden_dim = number_units\n",
    "        self.input_dim = input_dim\n",
    "        self.batch_size = batch_size\n",
    "\n",
    "        self.gru = nn.GRU(self.input_dim, self.hidden_dim)\n",
    "        self.hidden2tag = nn.Linear(self.hidden_dim, 2)\n",
    "        \n",
    "    def forward(self, sequence, hidden):#depends on what passed for model.train(), to be filled)\n",
    "        '''\n",
    "        sequence: batch  x timestep x number_feature matrix\n",
    "        hidden: should be h0\n",
    "        ''' \n",
    "        sequence = sequence.transpose(0,1)\n",
    "        gru_out, hidden = self.gru(sequence, hidden)\n",
    "        tag_space = self.hidden2tag(gru_out.view(len(sequence)*self.batch_size, -1))\n",
    "        #self.hidden2tag(hidden[0])\n",
    "        #final_score = F.log_softmax(self.hidden2tag(hidden[0]))\n",
    "        tag_scores = F.log_softmax(tag_space)       \n",
    "        return tag_scores#, final_score[0]\n",
    "    \n",
    "    def init_hidden(self):\n",
    "        return Variable(torch.zeros(1, self.batch_size, self.hidden_dim))"
   ]
  },
  {
   "cell_type": "code",
   "execution_count": 12,
   "metadata": {
    "collapsed": false,
    "deletable": true,
    "editable": true,
    "scrolled": false
   },
   "outputs": [
    {
     "name": "stdout",
     "output_type": "stream",
     "text": [
      "Epoch: 0; Loss: 0.6647575497627258\n",
      "<class 'list'> <class 'list'> <class 'list'> <class 'list'>\n",
      "accuracy_on_validation: 0.5551138934982652, the acc for live is 0.3667269451784597, the acc for dead is 0.7868698720294042\n",
      "Epoch: 1; Loss: 0.6899204254150391\n",
      "<class 'list'> <class 'list'> <class 'list'> <class 'list'>\n",
      "accuracy_on_validation: 0.5857802836023533, the acc for live is 0.8131206607163002, the acc for dead is 0.3061033100774216\n",
      "Epoch: 2; Loss: 0.6666716933250427\n",
      "<class 'list'> <class 'list'> <class 'list'> <class 'list'>\n",
      "accuracy_on_validation: 0.6146345602655001, the acc for live is 0.7729232115570658, the acc for dead is 0.419905882946646\n",
      "Epoch: 3; Loss: 0.6320374011993408\n",
      "<class 'list'> <class 'list'> <class 'list'> <class 'list'>\n",
      "accuracy_on_validation: 0.5793294614572334, the acc for live is 0.955269697912358, the acc for dead is 0.116843083574093\n",
      "Epoch: 4; Loss: 0.7337309122085571\n",
      "<class 'list'> <class 'list'> <class 'list'> <class 'list'>\n",
      "accuracy_on_validation: 0.5993833911600543, the acc for live is 0.5953762165377344, the acc for dead is 0.6043130674673766\n",
      "Epoch: 5; Loss: 0.6217041015625\n",
      "<class 'list'> <class 'list'> <class 'list'> <class 'list'>\n",
      "accuracy_on_validation: 0.5907810378639312, the acc for live is 0.8974023265910279, the acc for dead is 0.21357169591528624\n",
      "Epoch: 6; Loss: 0.6228129863739014\n",
      "<class 'list'> <class 'list'> <class 'list'> <class 'list'>\n",
      "accuracy_on_validation: 0.6141612611253583, the acc for live is 0.8866308186140957, the acc for dead is 0.27896580581944497\n",
      "Epoch: 7; Loss: 0.6688706278800964\n",
      "<class 'list'> <class 'list'> <class 'list'> <class 'list'>\n",
      "accuracy_on_validation: 0.6173668728314979, the acc for live is 0.9290878573552889, the acc for dead is 0.23388382137104743\n",
      "Epoch: 8; Loss: 0.5518800020217896\n",
      "<class 'list'> <class 'list'> <class 'list'> <class 'list'>\n",
      "accuracy_on_validation: 0.5944542917483784, the acc for live is 0.8002399745667981, the acc for dead is 0.3412941725647528\n",
      "early stop, accuracy =  0.617366872831\n"
     ]
    }
   ],
   "source": [
    "gru = GRU_Model(number_units, batch_size)\n",
    "loss = torch.nn.CrossEntropyLoss(ignore_index=-1)  \n",
    "optimizer = torch.optim.Adam(gru.parameters(), lr=0.05)\n",
    "accuracy_list = []\n",
    "train_loader, validation_loader = reload_data(batch_size)\n",
    "\n",
    "for epoch in range(num_epochs):\n",
    "    for step, (data, label) in enumerate(train_loader):        \n",
    "        data, label = Variable(data), Variable(label)\n",
    "        gru.zero_grad()\n",
    "        hidden= gru.init_hidden()\n",
    "        output = gru(data, hidden)\n",
    "        \n",
    "        label = label.transpose(0,1).contiguous().view(-1) \n",
    "        lossy = loss(output, label)\n",
    "        lossy.backward()\n",
    "        optimizer.step()\n",
    "        #print('one_step')\n",
    "        \n",
    "        if step % 100 ==0:\n",
    "            print(\"Epoch: {}; Loss: {}\".format(epoch, lossy.data[0]))\n",
    "                #print('accuracy_on_training: {}'.format(evaluation(train_loader))) \n",
    "            acc0, acc1, val_acc, auc = evaluation(validation_loader, lstm,'lstm')\n",
    "            print('accuracy_on_validation: {}, the acc for live is {}, the acc for dead is {}'.format(val_acc, acc0, acc1)) \n",
    "            print('auc ' +str(auc))\n",
    "    accuracy_list.append(val_acc)\n",
    "    if ((epoch > 5) and ((accuracy_list[-1] < (accuracy_list[-2] - 0.01)) or (accuracy_list[-1] < (accuracy_list[-3] - 0.01)))):\n",
    "        print(\"early stop, accuracy = \", accuracy_list[-2])\n",
    "        break         "
   ]
  },
  {
   "cell_type": "markdown",
   "metadata": {
    "deletable": true,
    "editable": true
   },
   "source": []
  },
  {
   "cell_type": "code",
   "execution_count": null,
   "metadata": {
    "collapsed": true,
    "deletable": true,
    "editable": true
   },
   "outputs": [],
   "source": []
  }
 ],
 "metadata": {
  "kernelspec": {
   "display_name": "Python 3",
   "language": "python",
   "name": "python3"
  },
  "language_info": {
   "codemirror_mode": {
    "name": "ipython",
    "version": 3
   },
   "file_extension": ".py",
   "mimetype": "text/x-python",
   "name": "python",
   "nbconvert_exporter": "python",
   "pygments_lexer": "ipython3",
   "version": "3.6.0"
  }
 },
 "nbformat": 4,
 "nbformat_minor": 2
}
