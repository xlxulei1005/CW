{
 "cells": [
  {
   "cell_type": "code",
   "execution_count": 11,
   "metadata": {
    "collapsed": false,
    "deletable": true,
    "editable": true
   },
   "outputs": [],
   "source": [
    "import pandas as pd\n",
    "import numpy as np\n",
    "import torch.nn as nn\n",
    "from torch.autograd import Variable\n",
    "import torch.nn.functional as F\n",
    "import torch\n",
    "from torch.utils.data import Dataset\n",
    "import matplotlib.pyplot as plt\n",
    "from collections import Counter\n",
    "from sklearn.metrics import roc_auc_score\n",
    "from clockwork_helperfunc import *\n",
    "from clockwork_helperfunc import evaluation\n",
    "import clockwork_helperfunc \n",
    "from imp import reload  \n",
    "from tqdm import tqdm\n",
    "reload(clockwork_helperfunc)\n",
    "import time\n",
    "\n",
    "#configuration\n",
    "batch_size = 5\n",
    "num_epochs = 50\n",
    "number_units = 7"
   ]
  },
  {
   "cell_type": "markdown",
   "metadata": {
    "deletable": true,
    "editable": true
   },
   "source": [
    "### Data"
   ]
  },
  {
   "cell_type": "code",
   "execution_count": 2,
   "metadata": {
    "collapsed": false,
    "deletable": true,
    "editable": true
   },
   "outputs": [],
   "source": [
    "training = pd.read_pickle('/Users/leilei/Documents/DS1005/CW/truncate_train_data.p')\n",
    "val = pd.read_pickle('/Users/leilei/Documents/DS1005/CW/truncate_valid_data.p')"
   ]
  },
  {
   "cell_type": "code",
   "execution_count": 3,
   "metadata": {
    "collapsed": false,
    "deletable": true,
    "editable": true
   },
   "outputs": [],
   "source": [
    "patient_feature_train, label_train, label_time_train = downsample(training, proportional = 2)"
   ]
  },
  {
   "cell_type": "code",
   "execution_count": 4,
   "metadata": {
    "collapsed": false,
    "deletable": true,
    "editable": true
   },
   "outputs": [
    {
     "data": {
      "text/plain": [
       "(529367, 232732)"
      ]
     },
     "execution_count": 4,
     "metadata": {},
     "output_type": "execute_result"
    }
   ],
   "source": [
    "sum(label_time_train), sum(label_train*label_time_train)"
   ]
  },
  {
   "cell_type": "code",
   "execution_count": 5,
   "metadata": {
    "collapsed": true,
    "deletable": true,
    "editable": true
   },
   "outputs": [],
   "source": [
    "patient_feature_val = val[0] #before cleaning, original data\n",
    "label_val = val[1]\n",
    "label_time_val = val[2]"
   ]
  },
  {
   "cell_type": "code",
   "execution_count": 6,
   "metadata": {
    "collapsed": false,
    "deletable": true,
    "editable": true
   },
   "outputs": [
    {
     "data": {
      "text/plain": [
       "(Counter({0: 3535, 1: 1790}), Counter({0: 4089, 1: 511}))"
      ]
     },
     "execution_count": 6,
     "metadata": {},
     "output_type": "execute_result"
    }
   ],
   "source": [
    "Counter(label_train), Counter(label_val)"
   ]
  },
  {
   "cell_type": "code",
   "execution_count": 7,
   "metadata": {
    "collapsed": false,
    "deletable": true,
    "editable": true
   },
   "outputs": [
    {
     "data": {
      "text/plain": [
       "5325"
      ]
     },
     "execution_count": 7,
     "metadata": {},
     "output_type": "execute_result"
    }
   ],
   "source": [
    "len(patient_feature_train)"
   ]
  },
  {
   "cell_type": "code",
   "execution_count": 8,
   "metadata": {
    "collapsed": false,
    "deletable": true,
    "editable": true
   },
   "outputs": [
    {
     "data": {
      "text/plain": [
       "{0}"
      ]
     },
     "execution_count": 8,
     "metadata": {},
     "output_type": "execute_result"
    }
   ],
   "source": [
    "set(label_train[:3535])"
   ]
  },
  {
   "cell_type": "markdown",
   "metadata": {
    "deletable": true,
    "editable": true
   },
   "source": [
    "### Model"
   ]
  },
  {
   "cell_type": "code",
   "execution_count": 9,
   "metadata": {
    "collapsed": true,
    "deletable": true,
    "editable": true
   },
   "outputs": [],
   "source": [
    "### Model\n",
    "#forward\n",
    "#cell_class, step\n",
    "class LSTM_Model(nn.Module):\n",
    "    def __init__(self, number_units, batch_size, mean = 0, std = 0.1, input_dim = 40):\n",
    "        super(LSTM_Model, self).__init__()\n",
    "        '''\n",
    "        scale: the updating frequency, a list. [1,2,4,8,16,32]\n",
    "        batch_size: the size of batch\n",
    "        group_size: the number of nodes in each scale, default is 1.\n",
    "        mean: the mean of Gaussian distribution for initialize weights for hidden layer\n",
    "        std: the standard devation of the Gaussian distribution for initialize weights for hidden layer\n",
    "        input_dim: the feature dimension of each time step\n",
    "        '''\n",
    "        self.hidden_dim = number_units\n",
    "        self.input_dim = input_dim\n",
    "        self.batch_size = batch_size\n",
    "\n",
    "        self.lstm = nn.LSTM(self.input_dim, self.hidden_dim)\n",
    "        self.hidden2tag = nn.Linear(self.hidden_dim, 2)\n",
    "        \n",
    "    def forward(self, sequence, hidden):#depends on what passed for model.train(), to be filled)\n",
    "        '''\n",
    "        sequence: batch  x timestep x number_feature matrix\n",
    "        hidden: should be h0\n",
    "        ''' \n",
    "        sequence = sequence.transpose(0,1) #now sequence, batch, num_feature\n",
    "        #print(sequence.size())\n",
    "        #print(hidden[0].size())\n",
    "        lstm_out, hidden = self.lstm(sequence, hidden) #hidden is the last one of sequence\n",
    "        #print('lstm_size')\n",
    "        #print(lstm_out.size())\n",
    "        #print(hidden)\n",
    "        tag_space = self.hidden2tag(lstm_out.view(len(sequence)*self.batch_size, -1))\n",
    "        #previously last step\n",
    "        #self.hidden2tag(hidden[0])\n",
    "        #final_score = F.log_softmax(self.hidden2tag(hidden[0]))\n",
    "        #print(final_score[0])\n",
    "        tag_scores = F.log_softmax(tag_space)       \n",
    "        return tag_scores#, final_score[0]#it is batch * class, the first dimension is 1, so remove it\n",
    "\n",
    "    def init_hidden(self):\n",
    "        return (Variable(torch.zeros(1, self.batch_size, self.hidden_dim)),\n",
    "                Variable(torch.zeros(1, self.batch_size, self.hidden_dim)))\n"
   ]
  },
  {
   "cell_type": "code",
   "execution_count": 12,
   "metadata": {
    "collapsed": false,
    "deletable": true,
    "editable": true,
    "scrolled": true
   },
   "outputs": [
    {
     "name": "stderr",
     "output_type": "stream",
     "text": [
      "\r",
      "  0%|          | 0/50 [00:00<?, ?it/s]"
     ]
    },
    {
     "name": "stdout",
     "output_type": "stream",
     "text": [
      "Epoch: 0; Loss: 0.6911388635635376\n",
      "accuracy_on_validation: 0.12739130434782608, the acc for live is 0.020298361457569088, the acc for dead is 0.9843444227005871\n",
      "auc 0.502321392079\n",
      "Epoch: 0; Loss: 0.8523029685020447\n",
      "accuracy_on_validation: 0.8132608695652174, the acc for live is 0.8941061384201516, the acc for dead is 0.16634050880626222\n",
      "auc 0.530223323613\n",
      "Epoch: 0; Loss: 0.22249732911586761\n",
      "accuracy_on_validation: 0.8002173913043479, the acc for live is 0.879921741257031, the acc for dead is 0.162426614481409\n",
      "auc 0.521174177869\n",
      "Epoch: 0; Loss: 0.3109551966190338\n",
      "accuracy_on_validation: 0.7971739130434783, the acc for live is 0.8728295426754707, the acc for dead is 0.1917808219178082\n",
      "auc 0.532305182297\n",
      "Epoch: 0; Loss: 1.2397196292877197\n",
      "accuracy_on_validation: 0.7984782608695652, the acc for live is 0.8740523355343605, the acc for dead is 0.19373776908023482\n",
      "auc 0.533895052307\n",
      "Epoch: 0; Loss: 0.5608583092689514\n",
      "accuracy_on_validation: 0.7871739130434783, the acc for live is 0.8576669112252384, the acc for dead is 0.22309197651663404\n",
      "auc 0.540379443871\n",
      "Epoch: 0; Loss: 0.3534139096736908\n",
      "accuracy_on_validation: 0.8010869565217391, the acc for live is 0.871851308388359, the acc for dead is 0.23483365949119372\n",
      "auc 0.55334248394\n",
      "Epoch: 0; Loss: 0.7275509834289551\n",
      "accuracy_on_validation: 0.8178260869565217, the acc for live is 0.8948398141354854, the acc for dead is 0.20156555772994128\n",
      "auc 0.548202685933\n",
      "Epoch: 0; Loss: 0.41160115599632263\n",
      "accuracy_on_validation: 0.7958695652173913, the acc for live is 0.8723404255319149, the acc for dead is 0.18395303326810175\n",
      "auc 0.5281467294\n",
      "Epoch: 0; Loss: 0.265197217464447\n",
      "accuracy_on_validation: 0.8, the acc for live is 0.8755196869650281, the acc for dead is 0.19569471624266144\n",
      "auc 0.535607201604\n",
      "Epoch: 0; Loss: 0.4495892822742462\n",
      "accuracy_on_validation: 0.808695652173913, the acc for live is 0.8855465884079237, the acc for dead is 0.19373776908023482\n",
      "auc 0.539642178744\n"
     ]
    },
    {
     "name": "stderr",
     "output_type": "stream",
     "text": [
      "\r",
      "  2%|▏         | 1/50 [24:18<19:50:45, 1458.07s/it]"
     ]
    },
    {
     "name": "stdout",
     "output_type": "stream",
     "text": [
      "Epoch: 1; Loss: 0.41577595472335815\n",
      "accuracy_on_validation: 0.7969565217391305, the acc for live is 0.8694057226705796, the acc for dead is 0.2172211350293542\n",
      "auc 0.54331342885\n",
      "Epoch: 1; Loss: 0.33770522475242615\n",
      "accuracy_on_validation: 0.82, the acc for live is 0.8977745169968208, the acc for dead is 0.19765166340508805\n",
      "auc 0.547713090201\n",
      "Epoch: 1; Loss: 0.32456016540527344\n",
      "accuracy_on_validation: 0.7945652173913044, the acc for live is 0.863536316947909, the acc for dead is 0.24266144814090018\n",
      "auc 0.553098882544\n",
      "Epoch: 1; Loss: 0.7419033646583557\n",
      "accuracy_on_validation: 0.802608695652174, the acc for live is 0.8760088041085841, the acc for dead is 0.21526418786692758\n",
      "auc 0.545636495988\n",
      "Epoch: 1; Loss: 1.1503275632858276\n",
      "accuracy_on_validation: 0.8267391304347826, the acc for live is 0.9075568598679383, the acc for dead is 0.18003913894324852\n",
      "auc 0.543797999406\n",
      "Epoch: 1; Loss: 0.23464244604110718\n",
      "accuracy_on_validation: 0.8008695652173913, the acc for live is 0.8733186598190267, the acc for dead is 0.22113502935420742\n",
      "auc 0.547226844587\n",
      "Epoch: 1; Loss: 0.3675258159637451\n",
      "accuracy_on_validation: 0.8110869565217391, the acc for live is 0.8855465884079237, the acc for dead is 0.21526418786692758\n",
      "auc 0.550405388137\n",
      "Epoch: 1; Loss: 0.13263730704784393\n",
      "accuracy_on_validation: 0.8219565217391305, the acc for live is 0.8989973098557105, the acc for dead is 0.2054794520547945\n",
      "auc 0.552238380955\n",
      "Epoch: 1; Loss: 0.703666627407074\n",
      "accuracy_on_validation: 0.8219565217391305, the acc for live is 0.9014428955734899, the acc for dead is 0.18590998043052837\n",
      "auc 0.543676438002\n",
      "Epoch: 1; Loss: 0.14906279742717743\n",
      "accuracy_on_validation: 0.8132608695652174, the acc for live is 0.8941061384201516, the acc for dead is 0.16634050880626222\n",
      "auc 0.530223323613\n",
      "Epoch: 1; Loss: 0.584220290184021\n",
      "accuracy_on_validation: 0.802608695652174, the acc for live is 0.8791880655416973, the acc for dead is 0.1898238747553816\n",
      "auc 0.534505970149\n"
     ]
    },
    {
     "name": "stderr",
     "output_type": "stream",
     "text": [
      "\r",
      "  4%|▍         | 2/50 [46:56<18:46:26, 1408.05s/it]"
     ]
    },
    {
     "name": "stdout",
     "output_type": "stream",
     "text": [
      "Epoch: 2; Loss: 0.6265928149223328\n",
      "accuracy_on_validation: 0.8139130434782609, the acc for live is 0.8906823184152605, the acc for dead is 0.19960861056751467\n",
      "auc 0.545145464491\n",
      "Epoch: 2; Loss: 0.3728349506855011\n",
      "accuracy_on_validation: 0.8178260869565217, the acc for live is 0.8943506969919296, the acc for dead is 0.2054794520547945\n",
      "auc 0.549915074523\n",
      "Epoch: 2; Loss: 0.5119327306747437\n",
      "accuracy_on_validation: 0.825, the acc for live is 0.9033993641477134, the acc for dead is 0.19765166340508805\n",
      "auc 0.550525513776\n",
      "Epoch: 2; Loss: 0.4200705885887146\n",
      "accuracy_on_validation: 0.8119565217391305, the acc for live is 0.8897040841281487, the acc for dead is 0.1898238747553816\n",
      "auc 0.539763979442\n",
      "Epoch: 2; Loss: 0.35656625032424927\n",
      "accuracy_on_validation: 0.806304347826087, the acc for live is 0.8784543898263634, the acc for dead is 0.22896281800391388\n",
      "auc 0.553708603915\n",
      "Epoch: 2; Loss: 0.2594378590583801\n",
      "accuracy_on_validation: 0.797608695652174, the acc for live is 0.8747860112496944, the acc for dead is 0.18003913894324852\n",
      "auc 0.527412575096\n",
      "Epoch: 2; Loss: 0.5076789259910583\n",
      "accuracy_on_validation: 0.8336956521739131, the acc for live is 0.9180728784543898, the acc for dead is 0.15851272015655576\n",
      "auc 0.538292799305\n",
      "Epoch: 2; Loss: 0.5051556825637817\n",
      "accuracy_on_validation: 0.823695652173913, the acc for live is 0.9004646612863781, the acc for dead is 0.20939334637964774\n",
      "auc 0.554929003833\n",
      "Epoch: 2; Loss: 0.16204936802387238\n",
      "accuracy_on_validation: 0.8073913043478261, the acc for live is 0.8835901198337002, the acc for dead is 0.19765166340508805\n",
      "auc 0.540620891619\n",
      "Epoch: 2; Loss: 0.657864511013031\n",
      "accuracy_on_validation: 0.8117391304347826, the acc for live is 0.8921496698459281, the acc for dead is 0.16829745596868884\n",
      "auc 0.530223562907\n",
      "Epoch: 2; Loss: 0.27676889300346375\n",
      "accuracy_on_validation: 0.8134782608695652, the acc for live is 0.8850574712643678, the acc for dead is 0.24070450097847357\n",
      "auc 0.562880986121\n"
     ]
    },
    {
     "name": "stderr",
     "output_type": "stream",
     "text": [
      "\r",
      "  6%|▌         | 3/50 [1:02:18<16:16:07, 1246.11s/it]"
     ]
    },
    {
     "name": "stdout",
     "output_type": "stream",
     "text": [
      "Epoch: 3; Loss: 0.2840060293674469\n",
      "accuracy_on_validation: 0.8119565217391305, the acc for live is 0.8867693812668134, the acc for dead is 0.21330724070450097\n",
      "auc 0.550038310986\n",
      "Epoch: 3; Loss: 0.7755724191665649\n",
      "accuracy_on_validation: 0.8230434782608695, the acc for live is 0.905111274150159, the acc for dead is 0.16634050880626222\n",
      "auc 0.535725891478\n",
      "Epoch: 3; Loss: 0.4226927161216736\n",
      "accuracy_on_validation: 0.8002173913043479, the acc for live is 0.871851308388359, the acc for dead is 0.22700587084148727\n",
      "auc 0.549428589615\n",
      "Epoch: 3; Loss: 0.10651729255914688\n",
      "accuracy_on_validation: 0.8132608695652174, the acc for live is 0.8916605527023722, the acc for dead is 0.18590998043052837\n",
      "auc 0.538785266566\n",
      "Epoch: 3; Loss: 0.840208113193512\n",
      "accuracy_on_validation: 0.8023913043478261, the acc for live is 0.8752751283932502, the acc for dead is 0.2191780821917808\n",
      "auc 0.547226605293\n",
      "Epoch: 3; Loss: 0.30340999364852905\n",
      "accuracy_on_validation: 0.8108695652173913, the acc for live is 0.8855465884079237, the acc for dead is 0.21330724070450097\n",
      "auc 0.549426914556\n",
      "Epoch: 3; Loss: 0.4166289269924164\n",
      "accuracy_on_validation: 0.8067391304347826, the acc for live is 0.880410858400587, the acc for dead is 0.2172211350293542\n",
      "auc 0.548815996715\n",
      "Epoch: 3; Loss: 0.21282845735549927\n",
      "accuracy_on_validation: 0.8130434782608695, the acc for live is 0.8892149669845928, the acc for dead is 0.2035225048923679\n",
      "auc 0.546368735938\n",
      "Epoch: 3; Loss: 0.10493901371955872\n",
      "accuracy_on_validation: 0.8282608695652174, the acc for live is 0.9070677427243825, the acc for dead is 0.19765166340508805\n",
      "auc 0.552359703065\n",
      "Epoch: 3; Loss: 0.40245360136032104\n",
      "accuracy_on_validation: 0.8145652173913044, the acc for live is 0.892394228417706, the acc for dead is 0.1917808219178082\n",
      "auc 0.542087525168\n",
      "Epoch: 3; Loss: 0.7637459635734558\n",
      "accuracy_on_validation: 0.8110869565217391, the acc for live is 0.888481291269259, the acc for dead is 0.1917808219178082\n",
      "auc 0.540131056594\n"
     ]
    },
    {
     "name": "stderr",
     "output_type": "stream",
     "text": [
      "\r",
      "  8%|▊         | 4/50 [1:14:57<14:22:00, 1124.35s/it]"
     ]
    },
    {
     "name": "stdout",
     "output_type": "stream",
     "text": [
      "Epoch: 4; Loss: 0.26137712597846985\n",
      "accuracy_on_validation: 0.8108695652173913, the acc for live is 0.8865248226950354, the acc for dead is 0.2054794520547945\n",
      "auc 0.546002137375\n",
      "Epoch: 4; Loss: 0.33410802483558655\n",
      "accuracy_on_validation: 0.8141304347826087, the acc for live is 0.8904377598434825, the acc for dead is 0.2035225048923679\n",
      "auc 0.546980132368\n",
      "Epoch: 4; Loss: 0.26569297909736633\n",
      "accuracy_on_validation: 0.8289130434782609, the acc for live is 0.9097578870139399, the acc for dead is 0.18199608610567514\n",
      "auc 0.54587698656\n",
      "Epoch: 4; Loss: 0.35950419306755066\n",
      "accuracy_on_validation: 0.8126086956521739, the acc for live is 0.8931279041330399, the acc for dead is 0.16829745596868884\n",
      "auc 0.530712680051\n",
      "Epoch: 4; Loss: 0.4346219301223755\n",
      "accuracy_on_validation: 0.8226086956521739, the acc for live is 0.8997309855710443, the acc for dead is 0.2054794520547945\n",
      "auc 0.552605218813\n",
      "Epoch: 4; Loss: 0.358084112405777\n",
      "accuracy_on_validation: 0.8117391304347826, the acc for live is 0.8826118855465884, the acc for dead is 0.2446183953033268\n",
      "auc 0.563615140425\n",
      "Epoch: 4; Loss: 0.2786690592765808\n",
      "accuracy_on_validation: 0.8069565217391305, the acc for live is 0.8786989483981413, the acc for dead is 0.2328767123287671\n",
      "auc 0.555787830363\n",
      "Epoch: 4; Loss: 0.2480190098285675\n",
      "accuracy_on_validation: 0.827391304347826, the acc for live is 0.905111274150159, the acc for dead is 0.2054794520547945\n",
      "auc 0.555295363102\n",
      "Epoch: 4; Loss: 0.562829315662384\n",
      "accuracy_on_validation: 0.8210869565217391, the acc for live is 0.8985081927121545, the acc for dead is 0.20156555772994128\n",
      "auc 0.550036875221\n",
      "Epoch: 4; Loss: 0.93445885181427\n",
      "accuracy_on_validation: 0.8121739130434783, the acc for live is 0.8933724627048178, the acc for dead is 0.162426614481409\n",
      "auc 0.527899538593\n",
      "Epoch: 4; Loss: 0.14874283969402313\n",
      "accuracy_on_validation: 0.8115217391304348, the acc for live is 0.8889704084128148, the acc for dead is 0.1917808219178082\n",
      "auc 0.540375615165\n"
     ]
    },
    {
     "name": "stderr",
     "output_type": "stream",
     "text": [
      "\r",
      " 10%|█         | 5/50 [1:27:36<13:08:24, 1051.21s/it]"
     ]
    },
    {
     "name": "stdout",
     "output_type": "stream",
     "text": [
      "Epoch: 5; Loss: 0.5267659425735474\n",
      "accuracy_on_validation: 0.8095652173913044, the acc for live is 0.8855465884079237, the acc for dead is 0.20156555772994128\n",
      "auc 0.543556073069\n",
      "Epoch: 5; Loss: 0.2746756970882416\n",
      "accuracy_on_validation: 0.8239130434782609, the acc for live is 0.9053558327219369, the acc for dead is 0.17221135029354206\n",
      "auc 0.538783591508\n",
      "Epoch: 5; Loss: 0.25070929527282715\n",
      "accuracy_on_validation: 0.8230434782608695, the acc for live is 0.9004646612863781, the acc for dead is 0.2035225048923679\n",
      "auc 0.551993583089\n",
      "Epoch: 5; Loss: 0.22699794173240662\n",
      "accuracy_on_validation: 0.8252173913043478, the acc for live is 0.909024211298606, the acc for dead is 0.15459882583170254\n",
      "auc 0.531811518565\n",
      "Epoch: 5; Loss: 0.32248908281326294\n",
      "accuracy_on_validation: 0.8060869565217391, the acc for live is 0.8782098312545855, the acc for dead is 0.22896281800391388\n",
      "auc 0.553586324629\n",
      "Epoch: 5; Loss: 0.3779979348182678\n",
      "accuracy_on_validation: 0.8167391304347826, the acc for live is 0.8955734898508193, the acc for dead is 0.18590998043052837\n",
      "auc 0.540741735141\n",
      "Epoch: 5; Loss: 0.19654181599617004\n",
      "accuracy_on_validation: 0.8210869565217391, the acc for live is 0.9004646612863781, the acc for dead is 0.18590998043052837\n",
      "auc 0.543187320858\n",
      "Epoch: 5; Loss: 0.43354353308677673\n",
      "accuracy_on_validation: 0.835, the acc for live is 0.9156272927366104, the acc for dead is 0.1898238747553816\n",
      "auc 0.552725583746\n",
      "Epoch: 5; Loss: 0.19757795333862305\n",
      "accuracy_on_validation: 0.8145652173913044, the acc for live is 0.896796282709709, the acc for dead is 0.15655577299412915\n",
      "auc 0.526676027852\n",
      "Epoch: 5; Loss: 0.24287763237953186\n",
      "accuracy_on_validation: 0.8019565217391305, the acc for live is 0.8745414526779164, the acc for dead is 0.22113502935420742\n",
      "auc 0.547838241016\n",
      "Epoch: 5; Loss: 0.7632359862327576\n",
      "accuracy_on_validation: 0.8126086956521739, the acc for live is 0.8899486426999267, the acc for dead is 0.19373776908023482\n",
      "auc 0.54184320589\n"
     ]
    },
    {
     "name": "stderr",
     "output_type": "stream",
     "text": [
      "\r",
      " 12%|█▏        | 6/50 [1:40:19<12:15:44, 1003.29s/it]"
     ]
    },
    {
     "name": "stdout",
     "output_type": "stream",
     "text": [
      "Epoch: 6; Loss: 1.4187453985214233\n",
      "accuracy_on_validation: 0.7760869565217391, the acc for live is 0.8420151626314503, the acc for dead is 0.24853228962818003\n",
      "auc 0.54527372613\n",
      "Epoch: 6; Loss: 0.31124287843704224\n",
      "accuracy_on_validation: 0.808695652173913, the acc for live is 0.8857911469797016, the acc for dead is 0.1917808219178082\n",
      "auc 0.538785984449\n",
      "Epoch: 6; Loss: 0.4458673298358917\n",
      "accuracy_on_validation: 0.7958695652173913, the acc for live is 0.8669601369528002, the acc for dead is 0.22700587084148727\n",
      "auc 0.546983003897\n",
      "Epoch: 6; Loss: 0.03558479622006416\n",
      "accuracy_on_validation: 0.8165217391304348, the acc for live is 0.8950843727072634, the acc for dead is 0.18786692759295498\n",
      "auc 0.54147565015\n",
      "Epoch: 6; Loss: 0.1892426759004593\n",
      "accuracy_on_validation: 0.7965217391304348, the acc for live is 0.8679383712399119, the acc for dead is 0.22504892367906065\n",
      "auc 0.546493647459\n",
      "Epoch: 6; Loss: 0.8831737041473389\n",
      "accuracy_on_validation: 0.818695652173913, the acc for live is 0.8928833455612619, the acc for dead is 0.22504892367906065\n",
      "auc 0.55896613462\n",
      "Epoch: 6; Loss: 1.2938915491104126\n",
      "accuracy_on_validation: 0.7958695652173913, the acc for live is 0.8654927855221326, the acc for dead is 0.23874755381604695\n",
      "auc 0.552120169669\n",
      "Epoch: 6; Loss: 0.08614238351583481\n",
      "accuracy_on_validation: 0.8319565217391305, the acc for live is 0.9126925898752751, the acc for dead is 0.18590998043052837\n",
      "auc 0.549301285153\n",
      "Epoch: 6; Loss: 0.363873690366745\n",
      "accuracy_on_validation: 0.8071739130434783, the acc for live is 0.8796771826852531, the acc for dead is 0.22700587084148727\n",
      "auc 0.553341526763\n",
      "Epoch: 6; Loss: 1.6706658601760864\n",
      "accuracy_on_validation: 0.8152173913043478, the acc for live is 0.896796282709709, the acc for dead is 0.162426614481409\n",
      "auc 0.529611448596\n",
      "Epoch: 6; Loss: 0.7742385864257812\n",
      "accuracy_on_validation: 0.815, the acc for live is 0.8938615798483737, the acc for dead is 0.18395303326810175\n",
      "auc 0.538907306558\n"
     ]
    },
    {
     "name": "stderr",
     "output_type": "stream",
     "text": [
      "\r",
      " 14%|█▍        | 7/50 [1:52:58<11:34:00, 968.39s/it] "
     ]
    },
    {
     "name": "stdout",
     "output_type": "stream",
     "text": [
      "Epoch: 7; Loss: 0.6606910824775696\n",
      "accuracy_on_validation: 0.8139130434782609, the acc for live is 0.8941061384201516, the acc for dead is 0.17221135029354206\n",
      "auc 0.533158744357\n",
      "Epoch: 7; Loss: 0.2673017978668213\n",
      "accuracy_on_validation: 0.8034782608695652, the acc for live is 0.8762533626803619, the acc for dead is 0.22113502935420742\n",
      "auc 0.548694196017\n",
      "Epoch: 7; Loss: 0.2173708826303482\n",
      "accuracy_on_validation: 0.8034782608695652, the acc for live is 0.8784543898263634, the acc for dead is 0.2035225048923679\n",
      "auc 0.540988447359\n",
      "Epoch: 7; Loss: 0.6371926665306091\n",
      "accuracy_on_validation: 0.8182608695652174, the acc for live is 0.8989973098557105, the acc for dead is 0.17221135029354206\n",
      "auc 0.535604330075\n",
      "Epoch: 7; Loss: 0.39966729283332825\n",
      "accuracy_on_validation: 0.8160869565217391, the acc for live is 0.892638786989484, the acc for dead is 0.2035225048923679\n",
      "auc 0.548080645941\n",
      "Epoch: 7; Loss: 0.3710245192050934\n",
      "accuracy_on_validation: 0.8134782608695652, the acc for live is 0.8909268769870384, the acc for dead is 0.19373776908023482\n",
      "auc 0.542332323034\n",
      "Epoch: 7; Loss: 0.10452401638031006\n",
      "accuracy_on_validation: 0.8065217391304348, the acc for live is 0.8818782098312545, the acc for dead is 0.2035225048923679\n",
      "auc 0.542700357362\n",
      "Epoch: 7; Loss: 0.8825525045394897\n",
      "accuracy_on_validation: 0.8215217391304348, the acc for live is 0.8987527512839325, the acc for dead is 0.2035225048923679\n",
      "auc 0.551137628088\n",
      "Epoch: 7; Loss: 0.7373462915420532\n",
      "accuracy_on_validation: 0.8295652173913044, the acc for live is 0.9117143555881634, the acc for dead is 0.17221135029354206\n",
      "auc 0.541962852941\n",
      "Epoch: 7; Loss: 0.3225882947444916\n",
      "accuracy_on_validation: 0.8167391304347826, the acc for live is 0.8914159941305942, the acc for dead is 0.2191780821917808\n",
      "auc 0.555297038161\n",
      "Epoch: 7; Loss: 0.5758686661720276\n",
      "accuracy_on_validation: 0.8130434782608695, the acc for live is 0.8838346784054781, the acc for dead is 0.2465753424657534\n",
      "auc 0.565205010436\n"
     ]
    },
    {
     "name": "stderr",
     "output_type": "stream",
     "text": [
      "\r",
      " 16%|█▌        | 8/50 [2:05:44<11:00:10, 943.11s/it]"
     ]
    },
    {
     "name": "stdout",
     "output_type": "stream",
     "text": [
      "Epoch: 8; Loss: 0.59158855676651\n",
      "accuracy_on_validation: 0.8210869565217391, the acc for live is 0.8989973098557105, the acc for dead is 0.19765166340508805\n",
      "auc 0.54832448663\n",
      "Epoch: 8; Loss: 0.30799612402915955\n",
      "accuracy_on_validation: 0.8260869565217391, the acc for live is 0.9056003912937148, the acc for dead is 0.1898238747553816\n",
      "auc 0.547712133025\n",
      "Epoch: 8; Loss: 0.5625982284545898\n",
      "accuracy_on_validation: 0.7897826086956522, the acc for live is 0.863780875519687, the acc for dead is 0.19765166340508805\n",
      "auc 0.530716269462\n",
      "Epoch: 8; Loss: 0.11241083592176437\n",
      "accuracy_on_validation: 0.8154347826086956, the acc for live is 0.8875030569821473, the acc for dead is 0.23874755381604695\n",
      "auc 0.563125305399\n",
      "Epoch: 8; Loss: 0.1131511852145195\n",
      "accuracy_on_validation: 0.788695652173913, the acc for live is 0.85155294693079, the acc for dead is 0.2857142857142857\n",
      "auc 0.568633616323\n",
      "Epoch: 8; Loss: 0.5818364024162292\n",
      "accuracy_on_validation: 0.8397826086956521, the acc for live is 0.9188065541697237, the acc for dead is 0.20743639921722112\n",
      "auc 0.563121476693\n",
      "Epoch: 8; Loss: 0.3580566644668579\n",
      "accuracy_on_validation: 0.811304347826087, the acc for live is 0.8897040841281487, the acc for dead is 0.18395303326810175\n",
      "auc 0.536828558698\n",
      "Epoch: 8; Loss: 0.863487720489502\n",
      "accuracy_on_validation: 0.8017391304347826, the acc for live is 0.8728295426754707, the acc for dead is 0.2328767123287671\n",
      "auc 0.552853127502\n",
      "Epoch: 8; Loss: 0.15052835643291473\n",
      "accuracy_on_validation: 0.8076086956521739, the acc for live is 0.8850574712643678, the acc for dead is 0.18786692759295498\n",
      "auc 0.536462199429\n",
      "Epoch: 8; Loss: 0.2202887088060379\n",
      "accuracy_on_validation: 0.8095652173913044, the acc for live is 0.8821227684030325, the acc for dead is 0.22896281800391388\n",
      "auc 0.555542793203\n",
      "Epoch: 8; Loss: 0.27747225761413574\n",
      "accuracy_on_validation: 0.8056521739130434, the acc for live is 0.879921741257031, the acc for dead is 0.21135029354207435\n",
      "auc 0.5456360174\n"
     ]
    },
    {
     "name": "stderr",
     "output_type": "stream",
     "text": [
      "\r",
      " 18%|█▊        | 9/50 [2:18:36<10:31:24, 924.01s/it]"
     ]
    },
    {
     "name": "stdout",
     "output_type": "stream",
     "text": [
      "Epoch: 9; Loss: 0.4771129786968231\n",
      "accuracy_on_validation: 0.8039130434782609, the acc for live is 0.8811445341159208, the acc for dead is 0.18590998043052837\n",
      "auc 0.533527257273\n",
      "Epoch: 9; Loss: 0.22543716430664062\n",
      "accuracy_on_validation: 0.8052173913043478, the acc for live is 0.8816336512594767, the acc for dead is 0.19373776908023482\n",
      "auc 0.53768571017\n",
      "Epoch: 9; Loss: 0.18438740074634552\n",
      "accuracy_on_validation: 0.8132608695652174, the acc for live is 0.8901932012717045, the acc for dead is 0.19765166340508805\n",
      "auc 0.543922432338\n",
      "Epoch: 9; Loss: 0.505460798740387\n",
      "accuracy_on_validation: 0.8071739130434783, the acc for live is 0.8840792369772561, the acc for dead is 0.1917808219178082\n",
      "auc 0.537930029448\n",
      "Epoch: 9; Loss: 0.4497407376766205\n",
      "accuracy_on_validation: 0.7954347826086956, the acc for live is 0.863536316947909, the acc for dead is 0.25048923679060664\n",
      "auc 0.557012776869\n",
      "Epoch: 9; Loss: 0.4977976083755493\n",
      "accuracy_on_validation: 0.8093478260869565, the acc for live is 0.8865248226950354, the acc for dead is 0.1917808219178082\n",
      "auc 0.539152822306\n",
      "Epoch: 9; Loss: 0.2123129814863205\n",
      "accuracy_on_validation: 0.7784782608695652, the acc for live is 0.8434825140621178, the acc for dead is 0.2583170254403131\n",
      "auc 0.550899769751\n",
      "Epoch: 9; Loss: 0.433883398771286\n",
      "accuracy_on_validation: 0.7710869565217391, the acc for live is 0.8351675226216679, the acc for dead is 0.2583170254403131\n",
      "auc 0.546742274031\n",
      "Epoch: 9; Loss: 0.08939994126558304\n",
      "accuracy_on_validation: 0.8128260869565217, the acc for live is 0.8862802641232576, the acc for dead is 0.22504892367906065\n",
      "auc 0.555664593901\n",
      "Epoch: 9; Loss: 0.15007655322551727\n",
      "accuracy_on_validation: 0.8160869565217391, the acc for live is 0.892638786989484, the acc for dead is 0.2035225048923679\n",
      "auc 0.548080645941\n",
      "Epoch: 9; Loss: 0.4037438631057739\n",
      "accuracy_on_validation: 0.8165217391304348, the acc for live is 0.8899486426999267, the acc for dead is 0.22896281800391388\n",
      "auc 0.559455730352\n"
     ]
    },
    {
     "name": "stderr",
     "output_type": "stream",
     "text": [
      "\r",
      " 20%|██        | 10/50 [2:31:11<10:04:46, 907.17s/it]"
     ]
    },
    {
     "name": "stdout",
     "output_type": "stream",
     "text": [
      "Epoch: 10; Loss: 0.28645798563957214\n",
      "accuracy_on_validation: 0.7845652173913044, the acc for live is 0.8522866226461238, the acc for dead is 0.24266144814090018\n",
      "auc 0.547474035394\n",
      "Epoch: 10; Loss: 1.1263988018035889\n",
      "accuracy_on_validation: 0.7952173913043479, the acc for live is 0.8642699926632429, the acc for dead is 0.24266144814090018\n",
      "auc 0.553465720402\n",
      "Epoch: 10; Loss: 0.2589424252510071\n",
      "accuracy_on_validation: 0.7984782608695652, the acc for live is 0.8647591098067987, the acc for dead is 0.26810176125244617\n",
      "auc 0.56643043553\n",
      "Epoch: 10; Loss: 0.5723109245300293\n",
      "accuracy_on_validation: 0.8023913043478261, the acc for live is 0.8735632183908046, the acc for dead is 0.2328767123287671\n",
      "auc 0.55321996536\n",
      "Epoch: 10; Loss: 0.4344883859157562\n",
      "accuracy_on_validation: 0.7984782608695652, the acc for live is 0.8747860112496944, the acc for dead is 0.18786692759295498\n",
      "auc 0.531326469421\n",
      "Epoch: 10; Loss: 0.3905991017818451\n",
      "accuracy_on_validation: 0.8067391304347826, the acc for live is 0.880166299828809, the acc for dead is 0.2191780821917808\n",
      "auc 0.54967219101\n",
      "Epoch: 10; Loss: 0.216928169131279\n",
      "accuracy_on_validation: 0.7852173913043479, the acc for live is 0.8517975055025678, the acc for dead is 0.25244618395303325\n",
      "auc 0.552121844728\n",
      "Epoch: 10; Loss: 0.5365703105926514\n",
      "accuracy_on_validation: 0.7956521739130434, the acc for live is 0.863780875519687, the acc for dead is 0.25048923679060664\n",
      "auc 0.557135056155\n",
      "Epoch: 10; Loss: 0.26851028203964233\n",
      "accuracy_on_validation: 0.805, the acc for live is 0.8762533626803619, the acc for dead is 0.23483365949119372\n",
      "auc 0.555543511086\n",
      "Epoch: 10; Loss: 0.5355923771858215\n",
      "accuracy_on_validation: 0.8141304347826087, the acc for live is 0.8931279041330399, the acc for dead is 0.18199608610567514\n",
      "auc 0.537561995119\n",
      "Epoch: 10; Loss: 0.7680640816688538\n",
      "accuracy_on_validation: 0.821304347826087, the acc for live is 0.9031548055759354, the acc for dead is 0.16634050880626222\n",
      "auc 0.534747657191\n"
     ]
    },
    {
     "name": "stderr",
     "output_type": "stream",
     "text": [
      "\r",
      " 22%|██▏       | 11/50 [2:43:52<9:41:00, 893.86s/it] "
     ]
    },
    {
     "name": "stdout",
     "output_type": "stream",
     "text": [
      "Epoch: 11; Loss: 0.32105326652526855\n",
      "accuracy_on_validation: 0.797608695652174, the acc for live is 0.8662264612374664, the acc for dead is 0.24853228962818003\n",
      "auc 0.557379375433\n",
      "Epoch: 11; Loss: 0.5683475732803345\n",
      "accuracy_on_validation: 0.7813043478260869, the acc for live is 0.8456835412081194, the acc for dead is 0.26614481409001955\n",
      "auc 0.555914177649\n",
      "Epoch: 11; Loss: 0.5657588839530945\n",
      "accuracy_on_validation: 0.7556521739130435, the acc for live is 0.8190266568843237, the acc for dead is 0.24853228962818003\n",
      "auc 0.533779473256\n",
      "Epoch: 11; Loss: 0.4094468057155609\n",
      "accuracy_on_validation: 0.8067391304347826, the acc for live is 0.8779652726828076, the acc for dead is 0.23679060665362034\n",
      "auc 0.557377939668\n",
      "Epoch: 11; Loss: 0.2960357964038849\n",
      "accuracy_on_validation: 0.806304347826087, the acc for live is 0.8789435069699193, the acc for dead is 0.22504892367906065\n",
      "auc 0.551996215324\n",
      "Epoch: 11; Loss: 0.2679298222064972\n",
      "accuracy_on_validation: 0.8021739130434783, the acc for live is 0.8742968941061384, the acc for dead is 0.22504892367906065\n",
      "auc 0.549672908893\n",
      "Epoch: 11; Loss: 0.4799969792366028\n",
      "accuracy_on_validation: 0.7830434782608696, the acc for live is 0.85155294693079, the acc for dead is 0.23483365949119372\n",
      "auc 0.543193303211\n",
      "Epoch: 11; Loss: 0.11507035791873932\n",
      "accuracy_on_validation: 0.7421739130434782, the acc for live is 0.7999510882856444, the acc for dead is 0.27984344422700586\n",
      "auc 0.539897266256\n",
      "Epoch: 11; Loss: 0.49204760789871216\n",
      "accuracy_on_validation: 0.8021739130434783, the acc for live is 0.8733186598190267, the acc for dead is 0.2328767123287671\n",
      "auc 0.553097686074\n",
      "Epoch: 11; Loss: 0.32139015197753906\n",
      "accuracy_on_validation: 0.7482608695652174, the acc for live is 0.8009293225727562, the acc for dead is 0.3268101761252446\n",
      "auc 0.563869749349\n",
      "Epoch: 11; Loss: 0.47416257858276367\n",
      "accuracy_on_validation: 0.8069565217391305, the acc for live is 0.8828564441183664, the acc for dead is 0.19960861056751467\n",
      "auc 0.541232527343\n",
      "early stop, accuracy =  0.821304347826\n"
     ]
    }
   ],
   "source": [
    "lstm = LSTM_Model(number_units, batch_size)\n",
    "loss = torch.nn.CrossEntropyLoss(ignore_index=-1)  \n",
    "optimizer = torch.optim.Adam(lstm.parameters(), lr=0.005)\n",
    "accuracy_list = []\n",
    "train_loader, validation_loader = reload_data(batch_size,patient_feature_train, label_train, label_time_train,patient_feature_val, label_val, label_time_val)\n",
    "start = time.time()\n",
    "for epoch in tqdm(range(num_epochs)):\n",
    "    for step, (data, label,label_list) in enumerate(train_loader):        \n",
    "        data, label = Variable(data), Variable(label)\n",
    "        lstm.zero_grad()\n",
    "        hidden= lstm.init_hidden()\n",
    "        output = lstm(data, hidden)\n",
    "        \n",
    "        label = label.transpose(0,1).contiguous().view(-1) \n",
    "        #output = torch.stack(output, dim=1).view(-1, 2) \n",
    "        #print(output.size())\n",
    "        #print(label.size())\n",
    "        lossy = loss(output, label)\n",
    "        lossy.backward()\n",
    "        optimizer.step()\n",
    "        #print('one_step')\n",
    "        if step % 100 ==0:\n",
    "            print(\"Epoch: {}; Loss: {}\".format(epoch, lossy.data[0]))\n",
    "                #print('accuracy_on_training: {}'.format(evaluation(train_loader))) \n",
    "            acc0, acc1, val_acc, auc = evaluation(validation_loader, lstm,'lstm')\n",
    "            print('accuracy_on_validation: {}, the acc for live is {}, the acc for dead is {}'.format(val_acc, acc0, acc1)) \n",
    "            print('auc ' +str(auc))\n",
    "    accuracy_list.append(val_acc)\n",
    "    if ((epoch > 5) and ((accuracy_list[-1] < (accuracy_list[-2] - 0.01)) or (accuracy_list[-1] < (accuracy_list[-3] - 0.01)))):\n",
    "        print(\"early stop, accuracy = \", accuracy_list[-2])\n",
    "        break     \n",
    "end = time.time()"
   ]
  },
  {
   "cell_type": "code",
   "execution_count": 13,
   "metadata": {
    "collapsed": false
   },
   "outputs": [
    {
     "name": "stdout",
     "output_type": "stream",
     "text": [
      "10593.130692958832\n"
     ]
    }
   ],
   "source": [
    "print(end - start)"
   ]
  },
  {
   "cell_type": "code",
   "execution_count": 18,
   "metadata": {
    "collapsed": false,
    "deletable": true,
    "editable": true
   },
   "outputs": [],
   "source": [
    "### Model\n",
    "#forward\n",
    "#cell_class, step\n",
    "class GRU_Model(nn.Module):\n",
    "    def __init__(self, number_units, batch_size, mean = 0, std = 0.1, input_dim = 40):\n",
    "        super(GRU_Model, self).__init__()\n",
    "        '''\n",
    "        scale: the updating frequency, a list. [1,2,4,8,16,32]\n",
    "        batch_size: the size of batch\n",
    "        group_size: the number of nodes in each scale, default is 1.\n",
    "        mean: the mean of Gaussian distribution for initialize weights for hidden layer\n",
    "        std: the standard devation of the Gaussian distribution for initialize weights for hidden layer\n",
    "        input_dim: the feature dimension of each time step\n",
    "        '''\n",
    "        self.hidden_dim = number_units\n",
    "        self.input_dim = input_dim\n",
    "        self.batch_size = batch_size\n",
    "\n",
    "        self.gru = nn.GRU(self.input_dim, self.hidden_dim)\n",
    "        self.hidden2tag = nn.Linear(self.hidden_dim, 2)\n",
    "        \n",
    "    def forward(self, sequence, hidden):#depends on what passed for model.train(), to be filled)\n",
    "        '''\n",
    "        sequence: batch  x timestep x number_feature matrix\n",
    "        hidden: should be h0\n",
    "        ''' \n",
    "        sequence = sequence.transpose(0,1)\n",
    "        gru_out, hidden = self.gru(sequence, hidden)\n",
    "        tag_space = self.hidden2tag(gru_out.view(len(sequence)*self.batch_size, -1))\n",
    "        #self.hidden2tag(hidden[0])\n",
    "        #final_score = F.log_softmax(self.hidden2tag(hidden[0]))\n",
    "        tag_scores = F.log_softmax(tag_space)       \n",
    "        return tag_scores#, final_score[0]\n",
    "    \n",
    "    def init_hidden(self):\n",
    "        return Variable(torch.zeros(1, self.batch_size, self.hidden_dim))"
   ]
  },
  {
   "cell_type": "code",
   "execution_count": null,
   "metadata": {
    "collapsed": false,
    "deletable": true,
    "editable": true,
    "scrolled": false
   },
   "outputs": [
    {
     "name": "stdout",
     "output_type": "stream",
     "text": [
      "Epoch: 0; Loss: 0.5425668358802795\n",
      "accuracy_on_validation: 0.7941304347826087, the acc for live is 0.8672046955245781, the acc for dead is 0.20939334637964774\n",
      "auc 0.538299020952\n",
      "Epoch: 0; Loss: 1.5264885425567627\n",
      "accuracy_on_validation: 0.8015217391304348, the acc for live is 0.8708730741012473, the acc for dead is 0.2465753424657534\n",
      "auc 0.558724208284\n",
      "Epoch: 0; Loss: 0.6992398500442505\n",
      "accuracy_on_validation: 0.8126086956521739, the acc for live is 0.879921741257031, the acc for dead is 0.273972602739726\n",
      "auc 0.576947171998\n",
      "Epoch: 0; Loss: 0.3505977988243103\n",
      "accuracy_on_validation: 0.7969565217391305, the acc for live is 0.8628026412325752, the acc for dead is 0.2700587084148728\n",
      "auc 0.566430674824\n",
      "Epoch: 0; Loss: 0.6616052389144897\n",
      "accuracy_on_validation: 0.7978260869565217, the acc for live is 0.8681829298116899, the acc for dead is 0.23483365949119372\n",
      "auc 0.551508294651\n",
      "Epoch: 0; Loss: 0.7396223545074463\n",
      "accuracy_on_validation: 0.797608695652174, the acc for live is 0.8654927855221326, the acc for dead is 0.25440313111545987\n",
      "auc 0.559947958319\n",
      "Epoch: 0; Loss: 0.9002161622047424\n",
      "accuracy_on_validation: 0.801304347826087, the acc for live is 0.8713621912448031, the acc for dead is 0.24070450097847357\n",
      "auc 0.556033346112\n",
      "Epoch: 0; Loss: 0.679144561290741\n",
      "accuracy_on_validation: 0.7928260869565218, the acc for live is 0.8628026412325752, the acc for dead is 0.2328767123287671\n",
      "auc 0.547839676781\n",
      "Epoch: 0; Loss: 0.601613461971283\n",
      "accuracy_on_validation: 0.8052173913043478, the acc for live is 0.8755196869650281, the acc for dead is 0.24266144814090018\n",
      "auc 0.559090567553\n",
      "Epoch: 0; Loss: 0.8136385679244995\n",
      "accuracy_on_validation: 0.7941304347826087, the acc for live is 0.8647591098067987, the acc for dead is 0.22896281800391388\n",
      "auc 0.546860963905\n",
      "Epoch: 0; Loss: 1.3135592937469482\n",
      "accuracy_on_validation: 0.8006521739130434, the acc for live is 0.8711176326730252, the acc for dead is 0.23679060665362034\n",
      "auc 0.553954119663\n",
      "Epoch: 1; Loss: 1.2004072666168213\n",
      "accuracy_on_validation: 0.7930434782608695, the acc for live is 0.8659819026656884, the acc for dead is 0.20939334637964774\n",
      "auc 0.537687624523\n",
      "Epoch: 1; Loss: 0.18879537284374237\n",
      "accuracy_on_validation: 0.8030434782608695, the acc for live is 0.8740523355343605, the acc for dead is 0.23483365949119372\n",
      "auc 0.554442997513\n",
      "Epoch: 1; Loss: 0.7369890809059143\n",
      "accuracy_on_validation: 0.7945652173913044, the acc for live is 0.8640254340914649, the acc for dead is 0.23874755381604695\n",
      "auc 0.551386493954\n",
      "Epoch: 1; Loss: 1.1696988344192505\n",
      "accuracy_on_validation: 0.7984782608695652, the acc for live is 0.8654927855221326, the acc for dead is 0.2622309197651663\n",
      "auc 0.563861852644\n",
      "Epoch: 1; Loss: 0.41508010029792786\n",
      "accuracy_on_validation: 0.7932608695652174, the acc for live is 0.8642699926632429, the acc for dead is 0.22504892367906065\n",
      "auc 0.544659458171\n",
      "Epoch: 1; Loss: 0.7229323983192444\n",
      "accuracy_on_validation: 0.7984782608695652, the acc for live is 0.8672046955245781, the acc for dead is 0.24853228962818003\n",
      "auc 0.557868492576\n",
      "Epoch: 1; Loss: 1.249394416809082\n",
      "accuracy_on_validation: 0.8, the acc for live is 0.8698948398141355, the acc for dead is 0.24070450097847357\n",
      "auc 0.555299670396\n",
      "Epoch: 1; Loss: 0.44957801699638367\n",
      "accuracy_on_validation: 0.7919565217391304, the acc for live is 0.8625580826607973, the acc for dead is 0.22700587084148727\n",
      "auc 0.544781976751\n",
      "Epoch: 1; Loss: 0.7095163464546204\n",
      "accuracy_on_validation: 0.7965217391304348, the acc for live is 0.8657373440939105, the acc for dead is 0.24266144814090018\n",
      "auc 0.554199396117\n",
      "Epoch: 1; Loss: 0.9631192684173584\n",
      "accuracy_on_validation: 0.8004347826086956, the acc for live is 0.8696502812423575, the acc for dead is 0.2465753424657534\n",
      "auc 0.558112811854\n",
      "Epoch: 1; Loss: 1.0585429668426514\n",
      "accuracy_on_validation: 0.7891304347826087, the acc for live is 0.8606016140865738, the acc for dead is 0.2172211350293542\n",
      "auc 0.538911374558\n",
      "Epoch: 2; Loss: 0.4332162141799927\n",
      "accuracy_on_validation: 0.803695652173913, the acc for live is 0.8738077769625825, the acc for dead is 0.24266144814090018\n",
      "auc 0.558234612552\n",
      "Epoch: 2; Loss: 0.6969534754753113\n",
      "accuracy_on_validation: 0.7997826086956522, the acc for live is 0.8684274883834678, the acc for dead is 0.25048923679060664\n",
      "auc 0.559458362587\n",
      "Epoch: 2; Loss: 0.5440822243690491\n",
      "accuracy_on_validation: 0.7952173913043479, the acc for live is 0.8672046955245781, the acc for dead is 0.2191780821917808\n",
      "auc 0.543191388858\n",
      "Epoch: 2; Loss: 0.5782206654548645\n",
      "accuracy_on_validation: 0.7993478260869565, the acc for live is 0.8674492540963561, the acc for dead is 0.25440313111545987\n",
      "auc 0.560926192606\n",
      "Epoch: 2; Loss: 0.5286890864372253\n",
      "accuracy_on_validation: 0.7910869565217391, the acc for live is 0.8620689655172413, the acc for dead is 0.22309197651663404\n",
      "auc 0.542580471017\n",
      "Epoch: 2; Loss: 0.4717326760292053\n",
      "accuracy_on_validation: 0.7971739130434783, the acc for live is 0.8689166055270238, the acc for dead is 0.22309197651663404\n",
      "auc 0.546004291022\n",
      "Epoch: 2; Loss: 0.4878113269805908\n"
     ]
    }
   ],
   "source": [
    "gru = GRU_Model(number_units, batch_size)\n",
    "loss = torch.nn.CrossEntropyLoss(ignore_index=-1)  \n",
    "optimizer = torch.optim.Adam(gru.parameters(), lr=0.05)\n",
    "accuracy_list = []\n",
    "train_loader, validation_loader = reload_data(batch_size,patient_feature_train, label_train, label_time_train,patient_feature_val, label_val, label_time_val)\n",
    "\n",
    "\n",
    "for epoch in range(num_epochs):\n",
    "    for step, (data, label,label_time) in enumerate(train_loader):        \n",
    "        data, label = Variable(data), Variable(label)\n",
    "        gru.zero_grad()\n",
    "        hidden= gru.init_hidden()\n",
    "        output = gru(data, hidden)\n",
    "        \n",
    "        label = label.transpose(0,1).contiguous().view(-1) \n",
    "        lossy = loss(output, label)\n",
    "        lossy.backward()\n",
    "        optimizer.step()\n",
    "        #print('one_step')\n",
    "        \n",
    "        if step % 100 ==0:\n",
    "            print(\"Epoch: {}; Loss: {}\".format(epoch, lossy.data[0]))\n",
    "                #print('accuracy_on_training: {}'.format(evaluation(train_loader))) \n",
    "            acc0, acc1, val_acc, auc = evaluation(validation_loader, lstm,'lstm')\n",
    "            print('accuracy_on_validation: {}, the acc for live is {}, the acc for dead is {}'.format(val_acc, acc0, acc1)) \n",
    "            print('auc ' +str(auc))\n",
    "    accuracy_list.append(val_acc)\n",
    "    if ((epoch > 5) and ((accuracy_list[-1] < (accuracy_list[-2] - 0.01)) or (accuracy_list[-1] < (accuracy_list[-3] - 0.01)))):\n",
    "        print(\"early stop, accuracy = \", accuracy_list[-2])\n",
    "        break         "
   ]
  },
  {
   "cell_type": "markdown",
   "metadata": {
    "deletable": true,
    "editable": true
   },
   "source": []
  },
  {
   "cell_type": "code",
   "execution_count": null,
   "metadata": {
    "collapsed": true,
    "deletable": true,
    "editable": true
   },
   "outputs": [],
   "source": []
  }
 ],
 "metadata": {
  "kernelspec": {
   "display_name": "Python 3",
   "language": "python",
   "name": "python3"
  },
  "language_info": {
   "codemirror_mode": {
    "name": "ipython",
    "version": 3
   },
   "file_extension": ".py",
   "mimetype": "text/x-python",
   "name": "python",
   "nbconvert_exporter": "python",
   "pygments_lexer": "ipython3",
   "version": "3.6.0"
  }
 },
 "nbformat": 4,
 "nbformat_minor": 2
}
