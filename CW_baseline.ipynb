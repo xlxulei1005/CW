{
 "cells": [
  {
   "cell_type": "code",
   "execution_count": 99,
   "metadata": {
    "collapsed": true,
    "deletable": true,
    "editable": true
   },
   "outputs": [],
   "source": [
    "import pandas as pd\n",
    "import numpy as np\n",
    "import torch.nn as nn\n",
    "from torch.autograd import Variable\n",
    "import torch.nn.functional as F\n",
    "import torch\n",
    "from torch.utils.data import Dataset\n",
    "import matplotlib.pyplot as plt\n",
    "from collections import Counter\n",
    "from sklearn.metrics import roc_auc_score\n",
    "from clockwork_helperfunc import *\n",
    "from clockwork_helperfunc import evaluation\n",
    "import clockwork_helperfunc \n",
    "from imp import reload  \n",
    "reload(clockwork_helperfunc)\n",
    "\n",
    "#configuration\n",
    "batch_size = 5\n",
    "num_epochs = 50\n",
    "number_units = 7"
   ]
  },
  {
   "cell_type": "markdown",
   "metadata": {
    "deletable": true,
    "editable": true
   },
   "source": [
    "### Data"
   ]
  },
  {
   "cell_type": "code",
   "execution_count": 101,
   "metadata": {
    "collapsed": false,
    "deletable": true,
    "editable": true
   },
   "outputs": [],
   "source": [
    "training = pd.read_pickle('/Users/leilei/Documents/DS1005/CW/truncate_train_data.p')\n",
    "val = pd.read_pickle('/Users/leilei/Documents/DS1005/CW/truncate_valid_data.p')"
   ]
  },
  {
   "cell_type": "code",
   "execution_count": 102,
   "metadata": {
    "collapsed": false,
    "deletable": true,
    "editable": true
   },
   "outputs": [],
   "source": [
    "patient_feature_train, label_train, label_time_train = downsample(training, proportional = 2)"
   ]
  },
  {
   "cell_type": "code",
   "execution_count": 103,
   "metadata": {
    "collapsed": false,
    "deletable": true,
    "editable": true
   },
   "outputs": [
    {
     "data": {
      "text/plain": [
       "(523590, 232732)"
      ]
     },
     "execution_count": 103,
     "metadata": {},
     "output_type": "execute_result"
    }
   ],
   "source": [
    "sum(label_time_train), sum(label_train*label_time_train)"
   ]
  },
  {
   "cell_type": "code",
   "execution_count": 104,
   "metadata": {
    "collapsed": true,
    "deletable": true,
    "editable": true
   },
   "outputs": [],
   "source": [
    "patient_feature_val = val[0] #before cleaning, original data\n",
    "label_val = val[1]\n",
    "label_time_val = val[2]"
   ]
  },
  {
   "cell_type": "code",
   "execution_count": 15,
   "metadata": {
    "collapsed": false,
    "deletable": true,
    "editable": true
   },
   "outputs": [
    {
     "data": {
      "text/plain": [
       "(Counter({0: 3535, 1: 1765}), Counter({0: 4051, 1: 549}))"
      ]
     },
     "execution_count": 15,
     "metadata": {},
     "output_type": "execute_result"
    }
   ],
   "source": [
    "Counter(label_train), Counter(label_val)"
   ]
  },
  {
   "cell_type": "code",
   "execution_count": 62,
   "metadata": {
    "collapsed": false,
    "deletable": true,
    "editable": true
   },
   "outputs": [
    {
     "data": {
      "text/plain": [
       "5300"
      ]
     },
     "execution_count": 62,
     "metadata": {},
     "output_type": "execute_result"
    }
   ],
   "source": [
    "len(patient_feature_train)"
   ]
  },
  {
   "cell_type": "code",
   "execution_count": 49,
   "metadata": {
    "collapsed": false,
    "deletable": true,
    "editable": true
   },
   "outputs": [
    {
     "data": {
      "text/plain": [
       "{0}"
      ]
     },
     "execution_count": 49,
     "metadata": {},
     "output_type": "execute_result"
    }
   ],
   "source": [
    "set(label_train[:3535])"
   ]
  },
  {
   "cell_type": "markdown",
   "metadata": {
    "deletable": true,
    "editable": true
   },
   "source": [
    "### small_try"
   ]
  },
  {
   "cell_type": "code",
   "execution_count": 5,
   "metadata": {
    "collapsed": false,
    "deletable": true,
    "editable": true
   },
   "outputs": [],
   "source": [
    "idx = np.random.randint(0, len(patient_feature_train),10)\n",
    "patient_feature_train_sub, label_train_sub, label_time_train_sub = patient_feature_train.copy(), label_train.copy(), label_time_train.copy()\n",
    "patient_feature_train, label_train, label_time_train = patient_feature_train_sub[idx], label_train_sub[idx], label_time_train_sub[idx]"
   ]
  },
  {
   "cell_type": "code",
   "execution_count": 35,
   "metadata": {
    "collapsed": false,
    "deletable": true,
    "editable": true
   },
   "outputs": [],
   "source": [
    "#crop and make it easy to see the change of weight and other stuff\n",
    "#y axis is 48 and x aixs is timestep\n",
    "patient_feature_train = [patient_feature_train[i][:i+1, :5] for i in range(len(patient_feature_train))]"
   ]
  },
  {
   "cell_type": "code",
   "execution_count": 77,
   "metadata": {
    "collapsed": false,
    "deletable": true,
    "editable": true
   },
   "outputs": [
    {
     "data": {
      "text/plain": [
       "(10, 10, 10)"
      ]
     },
     "execution_count": 77,
     "metadata": {},
     "output_type": "execute_result"
    }
   ],
   "source": [
    "len(patient_feature_train), len(label_train), len(label_time_train)"
   ]
  },
  {
   "cell_type": "code",
   "execution_count": 78,
   "metadata": {
    "collapsed": false,
    "deletable": true,
    "editable": true
   },
   "outputs": [
    {
     "data": {
      "text/plain": [
       "array([0, 0, 1, 0, 1, 0, 0, 1, 1, 0])"
      ]
     },
     "execution_count": 78,
     "metadata": {},
     "output_type": "execute_result"
    }
   ],
   "source": [
    "label_train"
   ]
  },
  {
   "cell_type": "code",
   "execution_count": 79,
   "metadata": {
    "collapsed": false,
    "deletable": true,
    "editable": true
   },
   "outputs": [
    {
     "data": {
      "text/plain": [
       "(727, 321)"
      ]
     },
     "execution_count": 79,
     "metadata": {},
     "output_type": "execute_result"
    }
   ],
   "source": [
    "sum(label_time_train), sum(label_train*label_time_train)"
   ]
  },
  {
   "cell_type": "code",
   "execution_count": 108,
   "metadata": {
    "collapsed": false
   },
   "outputs": [],
   "source": [
    "def evaluation(data_loader, model, mode = 'novel'):\n",
    "    '''\n",
    "    This is the evaluation of patient level prediction.\n",
    "    '''\n",
    "    label_list = []\n",
    "    output_list = []\n",
    "    model.eval()\n",
    "    \n",
    "    for i, (data, label, time_list) in enumerate(data_loader):\n",
    "        data = Variable(data)\n",
    "        hidden= model.init_hidden()\n",
    "        #print(data.size()) #[5, 75, 48]\n",
    "        #print(time_list) #which is a list\n",
    "        if mode == 'novel':\n",
    "            hidden, ori_output = model(data, hidden)\n",
    "            ##print('the hidden size is ')\n",
    "            #print(hidden[0].data.size()) #batch_size * hidden dimension\n",
    "            #output is a list of prediction, everyone is batch * two\n",
    "            #print('output length' + str(len(output)))\n",
    "            #print('output single element size' + str(output[0].size()))\n",
    "            output = [np.argmax(ori_output[time_list[i] - 1][i].data.numpy()) for i in range(data.size()[0])]\n",
    "            #batch size, each one pick the element\n",
    "            #each prediction for each batch member\n",
    "            #print(output[0]) \n",
    "        else:\n",
    "            ori_output = model(data, hidden) #should be [torch.FloatTensor of size seq*batch*2]\n",
    "            #print(ori_output)\n",
    "            length, batch_sz = data.size()[1], data.size()[0]\n",
    "            #print(length, batch_sz)\n",
    "            output = [np.argmax(ori_output[length*i + time_list[i] - 1].data.numpy()) for i in range(batch_sz)]\n",
    "            #print(output)\n",
    "            #for i in range(batch_sz):\n",
    "                #print(i)\n",
    "                #np.argmax(ori_output[length*i + time_list[i] - 1].data.numpy())\n",
    "            #output = np.argmax(last.data.numpy(),axis = 1)\n",
    "            #print(output)\n",
    "        #now get a list of hidden and a list of outputs\n",
    "        #print(output)\n",
    "        label = label[:,0].numpy()\n",
    "        #print(label == output)\n",
    "        #label = label.transpose(0,1).contiguous().view(-1).data.numpy()\n",
    "\n",
    "        label_list.extend(label)\n",
    "        output_list.extend(output)\n",
    "    \n",
    "    label_list = np.array(label_list)\n",
    "    output_list = np.array(output_list)\n",
    "    \n",
    "    one_idx = np.where(label_list == 1)[0]\n",
    "    zero_idx = np.where(label_list == 0)[0]\n",
    "    \n",
    "    label_ones = label_list[one_idx] #both are array, can select index like this\n",
    "    label_zeros = label_list[zero_idx]\n",
    "    pre_ones = output_list[one_idx]#now softmax, turn into class\n",
    "    pre_zeros = output_list[zero_idx]\n",
    "        \n",
    "\n",
    "    acc0 = sum(pre_zeros == label_zeros)/len(pre_zeros)\n",
    "    acc1 = sum(pre_ones ==label_ones)/len(pre_ones)\n",
    "    acc =  (sum(pre_ones == label_ones) + sum(pre_zeros == label_zeros))/(len(pre_ones) + len(pre_zeros))\n",
    "    #print(type(label_ones), type(label_zeros), type(pre_ones),type(pre_zeros))\n",
    "    auc = roc_auc_score(list(label_ones) + list(label_zeros), list(pre_ones) + list(pre_zeros))\n",
    "    model.train()\n",
    "    return acc0, acc1,acc,auc\n",
    "\n",
    "\n"
   ]
  },
  {
   "cell_type": "markdown",
   "metadata": {
    "deletable": true,
    "editable": true
   },
   "source": [
    "### Model"
   ]
  },
  {
   "cell_type": "code",
   "execution_count": 109,
   "metadata": {
    "collapsed": true,
    "deletable": true,
    "editable": true
   },
   "outputs": [],
   "source": [
    "### Model\n",
    "#forward\n",
    "#cell_class, step\n",
    "class LSTM_Model(nn.Module):\n",
    "    def __init__(self, number_units, batch_size, mean = 0, std = 0.1, input_dim = 40):\n",
    "        super(LSTM_Model, self).__init__()\n",
    "        '''\n",
    "        scale: the updating frequency, a list. [1,2,4,8,16,32]\n",
    "        batch_size: the size of batch\n",
    "        group_size: the number of nodes in each scale, default is 1.\n",
    "        mean: the mean of Gaussian distribution for initialize weights for hidden layer\n",
    "        std: the standard devation of the Gaussian distribution for initialize weights for hidden layer\n",
    "        input_dim: the feature dimension of each time step\n",
    "        '''\n",
    "        self.hidden_dim = number_units\n",
    "        self.input_dim = input_dim\n",
    "        self.batch_size = batch_size\n",
    "\n",
    "        self.lstm = nn.LSTM(self.input_dim, self.hidden_dim)\n",
    "        self.hidden2tag = nn.Linear(self.hidden_dim, 2)\n",
    "        \n",
    "    def forward(self, sequence, hidden):#depends on what passed for model.train(), to be filled)\n",
    "        '''\n",
    "        sequence: batch  x timestep x number_feature matrix\n",
    "        hidden: should be h0\n",
    "        ''' \n",
    "        sequence = sequence.transpose(0,1) #now sequence, batch, num_feature\n",
    "        #print(sequence.size())\n",
    "        #print(hidden[0].size())\n",
    "        lstm_out, hidden = self.lstm(sequence, hidden) #hidden is the last one of sequence\n",
    "        #print('lstm_size')\n",
    "        #print(lstm_out.size())\n",
    "        #print(hidden)\n",
    "        tag_space = self.hidden2tag(lstm_out.view(len(sequence)*self.batch_size, -1))\n",
    "        #previously last step\n",
    "        #self.hidden2tag(hidden[0])\n",
    "        #final_score = F.log_softmax(self.hidden2tag(hidden[0]))\n",
    "        #print(final_score[0])\n",
    "        tag_scores = F.log_softmax(tag_space)       \n",
    "        return tag_scores#, final_score[0]#it is batch * class, the first dimension is 1, so remove it\n",
    "\n",
    "    def init_hidden(self):\n",
    "        return (Variable(torch.zeros(1, self.batch_size, self.hidden_dim)),\n",
    "                Variable(torch.zeros(1, self.batch_size, self.hidden_dim)))\n"
   ]
  },
  {
   "cell_type": "code",
   "execution_count": null,
   "metadata": {
    "collapsed": false,
    "deletable": true,
    "editable": true,
    "scrolled": false
   },
   "outputs": [
    {
     "name": "stdout",
     "output_type": "stream",
     "text": [
      "Epoch: 0; Loss: 0.9413533806800842\n",
      "accuracy_on_validation: 0.12608695652173912, the acc for live is 0.01883101002690144, the acc for dead is 0.9843444227005871\n",
      "auc 0.501587716364\n",
      "Epoch: 0; Loss: 0.7538047432899475\n",
      "accuracy_on_validation: 0.14934782608695651, the acc for live is 0.048911714355588165, the acc for dead is 0.9530332681017613\n",
      "auc 0.500972491229\n",
      "Epoch: 0; Loss: 0.8615680932998657\n",
      "accuracy_on_validation: 0.19717391304347825, the acc for live is 0.10589386157984837, the acc for dead is 0.9275929549902152\n",
      "auc 0.516743408285\n",
      "Epoch: 0; Loss: 0.5953865051269531\n",
      "accuracy_on_validation: 0.23173913043478261, the acc for live is 0.14697970163854243, the acc for dead is 0.9099804305283757\n",
      "auc 0.528480066083\n",
      "Epoch: 0; Loss: 0.7673676609992981\n",
      "accuracy_on_validation: 0.28304347826086956, the acc for live is 0.2103203717290291, the acc for dead is 0.8649706457925636\n",
      "auc 0.537645508761\n",
      "Epoch: 0; Loss: 0.6443922519683838\n",
      "accuracy_on_validation: 0.31326086956521737, the acc for live is 0.2504279775006114, the acc for dead is 0.8160469667318982\n",
      "auc 0.533237472116\n",
      "Epoch: 0; Loss: 0.5945175290107727\n",
      "accuracy_on_validation: 0.34543478260869565, the acc for live is 0.29029102470041573, the acc for dead is 0.786692759295499\n",
      "auc 0.538491891998\n",
      "Epoch: 0; Loss: 0.4894309639930725\n",
      "accuracy_on_validation: 0.3634782608695652, the acc for live is 0.31670335045243336, the acc for dead is 0.7377690802348337\n",
      "auc 0.527236215344\n",
      "Epoch: 0; Loss: 0.9193906188011169\n",
      "accuracy_on_validation: 0.3893478260869565, the acc for live is 0.343115676204451, the acc for dead is 0.7592954990215264\n",
      "auc 0.551205587613\n",
      "Epoch: 0; Loss: 0.500910222530365\n",
      "accuracy_on_validation: 0.37673913043478263, the acc for live is 0.33822450476889215, the acc for dead is 0.684931506849315\n",
      "auc 0.511578005809\n",
      "Epoch: 0; Loss: 0.5275647044181824\n",
      "accuracy_on_validation: 0.43130434782608695, the acc for live is 0.39691856199559794, the acc for dead is 0.7064579256360078\n",
      "auc 0.551688243816\n",
      "Epoch: 0; Loss: 0.49788278341293335\n",
      "accuracy_on_validation: 0.7739130434782608, the acc for live is 0.8461726583516752, the acc for dead is 0.19569471624266144\n",
      "auc 0.520933687297\n",
      "Epoch: 0; Loss: 0.5658457279205322\n",
      "accuracy_on_validation: 0.7754347826086957, the acc for live is 0.8439716312056738, the acc for dead is 0.22700587084148727\n",
      "auc 0.535488751024\n",
      "Epoch: 0; Loss: 0.509024977684021\n",
      "accuracy_on_validation: 0.7847826086956522, the acc for live is 0.8549767669356811, the acc for dead is 0.22309197651663404\n",
      "auc 0.539034371726\n",
      "Epoch: 0; Loss: 0.4520271420478821\n",
      "accuracy_on_validation: 0.79, the acc for live is 0.8654927855221326, the acc for dead is 0.18590998043052837\n",
      "auc 0.525701382976\n",
      "Epoch: 0; Loss: 0.5679704546928406\n",
      "accuracy_on_validation: 0.7930434782608695, the acc for live is 0.8681829298116899, the acc for dead is 0.1917808219178082\n",
      "auc 0.529981875865\n",
      "Epoch: 0; Loss: 0.6428486704826355\n",
      "accuracy_on_validation: 0.8017391304347826, the acc for live is 0.8782098312545855, the acc for dead is 0.1898238747553816\n",
      "auc 0.534016853005\n",
      "Epoch: 0; Loss: 0.34683287143707275\n",
      "accuracy_on_validation: 0.8082608695652174, the acc for live is 0.8848129126925899, the acc for dead is 0.19569471624266144\n",
      "auc 0.540253814468\n",
      "Epoch: 0; Loss: 0.5596818327903748\n",
      "accuracy_on_validation: 0.8060869565217391, the acc for live is 0.8845683541208119, the acc for dead is 0.1780821917808219\n",
      "auc 0.531325272951\n",
      "Epoch: 0; Loss: 0.3981655240058899\n",
      "accuracy_on_validation: 0.8058695652173913, the acc for live is 0.8833455612619222, the acc for dead is 0.18590998043052837\n",
      "auc 0.534627770846\n",
      "Epoch: 0; Loss: 0.950567364692688\n",
      "accuracy_on_validation: 0.7980434782608695, the acc for live is 0.8740523355343605, the acc for dead is 0.1898238747553816\n",
      "auc 0.531938105145\n",
      "Epoch: 0; Loss: 0.9271310567855835\n",
      "accuracy_on_validation: 0.801304347826087, the acc for live is 0.8782098312545855, the acc for dead is 0.18590998043052837\n",
      "auc 0.532059905843\n",
      "Epoch: 0; Loss: 1.152976155281067\n",
      "accuracy_on_validation: 0.8030434782608695, the acc for live is 0.8831010026901442, the acc for dead is 0.162426614481409\n",
      "auc 0.522763808586\n",
      "Epoch: 0; Loss: 0.8903002142906189\n",
      "accuracy_on_validation: 0.8023913043478261, the acc for live is 0.8779652726828076, the acc for dead is 0.19765166340508805\n",
      "auc 0.537808468044\n",
      "Epoch: 0; Loss: 0.519212007522583\n",
      "accuracy_on_validation: 0.8030434782608695, the acc for live is 0.880166299828809, the acc for dead is 0.18590998043052837\n",
      "auc 0.53303814013\n",
      "Epoch: 0; Loss: 0.6681023240089417\n",
      "accuracy_on_validation: 0.8041304347826087, the acc for live is 0.8796771826852531, the acc for dead is 0.19960861056751467\n",
      "auc 0.539642896626\n",
      "Epoch: 0; Loss: 0.9989591240882874\n",
      "accuracy_on_validation: 0.8, the acc for live is 0.8755196869650281, the acc for dead is 0.19569471624266144\n",
      "auc 0.535607201604\n",
      "Epoch: 0; Loss: 0.40004652738571167\n"
     ]
    }
   ],
   "source": [
    "lstm = LSTM_Model(number_units, batch_size)\n",
    "loss = torch.nn.CrossEntropyLoss(ignore_index=-1)  \n",
    "optimizer = torch.optim.Adam(lstm.parameters(), lr=0.005)\n",
    "accuracy_list = []\n",
    "train_loader, validation_loader = reload_data(batch_size,patient_feature_train, label_train, label_time_train,patient_feature_val, label_val, label_time_val)\n",
    "for epoch in range(num_epochs):\n",
    "    for step, (data, label,label_list) in enumerate(train_loader):        \n",
    "        data, label = Variable(data), Variable(label)\n",
    "        lstm.zero_grad()\n",
    "        hidden= lstm.init_hidden()\n",
    "        output = lstm(data, hidden)\n",
    "        \n",
    "        label = label.transpose(0,1).contiguous().view(-1) \n",
    "        #output = torch.stack(output, dim=1).view(-1, 2) \n",
    "        #print(output.size())\n",
    "        #print(label.size())\n",
    "        lossy = loss(output, label)\n",
    "        lossy.backward()\n",
    "        optimizer.step()\n",
    "        #print('one_step')\n",
    "        if step % 4 ==0:\n",
    "            print(\"Epoch: {}; Loss: {}\".format(epoch, lossy.data[0]))\n",
    "                #print('accuracy_on_training: {}'.format(evaluation(train_loader))) \n",
    "            acc0, acc1, val_acc, auc = evaluation(validation_loader, lstm,'lstm')\n",
    "            print('accuracy_on_validation: {}, the acc for live is {}, the acc for dead is {}'.format(val_acc, acc0, acc1)) \n",
    "            print('auc ' +str(auc))\n",
    "    accuracy_list.append(val_acc)\n",
    "    if ((epoch > 5) and ((accuracy_list[-1] < (accuracy_list[-2] - 0.01)) or (accuracy_list[-1] < (accuracy_list[-3] - 0.01)))):\n",
    "        print(\"early stop, accuracy = \", accuracy_list[-2])\n",
    "        break            "
   ]
  },
  {
   "cell_type": "code",
   "execution_count": 88,
   "metadata": {
    "collapsed": false,
    "deletable": true,
    "editable": true
   },
   "outputs": [],
   "source": [
    "### Model\n",
    "#forward\n",
    "#cell_class, step\n",
    "class GRU_Model(nn.Module):\n",
    "    def __init__(self, number_units, batch_size, mean = 0, std = 0.1, input_dim = 48):\n",
    "        super(GRU_Model, self).__init__()\n",
    "        '''\n",
    "        scale: the updating frequency, a list. [1,2,4,8,16,32]\n",
    "        batch_size: the size of batch\n",
    "        group_size: the number of nodes in each scale, default is 1.\n",
    "        mean: the mean of Gaussian distribution for initialize weights for hidden layer\n",
    "        std: the standard devation of the Gaussian distribution for initialize weights for hidden layer\n",
    "        input_dim: the feature dimension of each time step\n",
    "        '''\n",
    "        self.hidden_dim = number_units\n",
    "        self.input_dim = input_dim\n",
    "        self.batch_size = batch_size\n",
    "\n",
    "        self.gru = nn.GRU(self.input_dim, self.hidden_dim)\n",
    "        self.hidden2tag = nn.Linear(self.hidden_dim, 2)\n",
    "        \n",
    "    def forward(self, sequence, hidden):#depends on what passed for model.train(), to be filled)\n",
    "        '''\n",
    "        sequence: batch  x timestep x number_feature matrix\n",
    "        hidden: should be h0\n",
    "        ''' \n",
    "        sequence = sequence.transpose(0,1)\n",
    "        gru_out, hidden = self.gru(sequence, hidden)\n",
    "        tag_space = self.hidden2tag(gru_out.view(len(sequence)*self.batch_size, -1))\n",
    "        #self.hidden2tag(hidden[0])\n",
    "        #final_score = F.log_softmax(self.hidden2tag(hidden[0]))\n",
    "        tag_scores = F.log_softmax(tag_space)       \n",
    "        return tag_scores#, final_score[0]\n",
    "    \n",
    "    def init_hidden(self):\n",
    "        return Variable(torch.zeros(1, self.batch_size, self.hidden_dim))"
   ]
  },
  {
   "cell_type": "code",
   "execution_count": 12,
   "metadata": {
    "collapsed": false,
    "deletable": true,
    "editable": true,
    "scrolled": false
   },
   "outputs": [
    {
     "name": "stdout",
     "output_type": "stream",
     "text": [
      "Epoch: 0; Loss: 0.6647575497627258\n",
      "<class 'list'> <class 'list'> <class 'list'> <class 'list'>\n",
      "accuracy_on_validation: 0.5551138934982652, the acc for live is 0.3667269451784597, the acc for dead is 0.7868698720294042\n",
      "Epoch: 1; Loss: 0.6899204254150391\n",
      "<class 'list'> <class 'list'> <class 'list'> <class 'list'>\n",
      "accuracy_on_validation: 0.5857802836023533, the acc for live is 0.8131206607163002, the acc for dead is 0.3061033100774216\n",
      "Epoch: 2; Loss: 0.6666716933250427\n",
      "<class 'list'> <class 'list'> <class 'list'> <class 'list'>\n",
      "accuracy_on_validation: 0.6146345602655001, the acc for live is 0.7729232115570658, the acc for dead is 0.419905882946646\n",
      "Epoch: 3; Loss: 0.6320374011993408\n",
      "<class 'list'> <class 'list'> <class 'list'> <class 'list'>\n",
      "accuracy_on_validation: 0.5793294614572334, the acc for live is 0.955269697912358, the acc for dead is 0.116843083574093\n",
      "Epoch: 4; Loss: 0.7337309122085571\n",
      "<class 'list'> <class 'list'> <class 'list'> <class 'list'>\n",
      "accuracy_on_validation: 0.5993833911600543, the acc for live is 0.5953762165377344, the acc for dead is 0.6043130674673766\n",
      "Epoch: 5; Loss: 0.6217041015625\n",
      "<class 'list'> <class 'list'> <class 'list'> <class 'list'>\n",
      "accuracy_on_validation: 0.5907810378639312, the acc for live is 0.8974023265910279, the acc for dead is 0.21357169591528624\n",
      "Epoch: 6; Loss: 0.6228129863739014\n",
      "<class 'list'> <class 'list'> <class 'list'> <class 'list'>\n",
      "accuracy_on_validation: 0.6141612611253583, the acc for live is 0.8866308186140957, the acc for dead is 0.27896580581944497\n",
      "Epoch: 7; Loss: 0.6688706278800964\n",
      "<class 'list'> <class 'list'> <class 'list'> <class 'list'>\n",
      "accuracy_on_validation: 0.6173668728314979, the acc for live is 0.9290878573552889, the acc for dead is 0.23388382137104743\n",
      "Epoch: 8; Loss: 0.5518800020217896\n",
      "<class 'list'> <class 'list'> <class 'list'> <class 'list'>\n",
      "accuracy_on_validation: 0.5944542917483784, the acc for live is 0.8002399745667981, the acc for dead is 0.3412941725647528\n",
      "early stop, accuracy =  0.617366872831\n"
     ]
    }
   ],
   "source": [
    "gru = GRU_Model(number_units, batch_size)\n",
    "loss = torch.nn.CrossEntropyLoss(ignore_index=-1)  \n",
    "optimizer = torch.optim.Adam(gru.parameters(), lr=0.05)\n",
    "accuracy_list = []\n",
    "train_loader, validation_loader = reload_data(batch_size)\n",
    "\n",
    "for epoch in range(num_epochs):\n",
    "    for step, (data, label) in enumerate(train_loader):        \n",
    "        data, label = Variable(data), Variable(label)\n",
    "        gru.zero_grad()\n",
    "        hidden= gru.init_hidden()\n",
    "        output = gru(data, hidden)\n",
    "        \n",
    "        label = label.transpose(0,1).contiguous().view(-1) \n",
    "        lossy = loss(output, label)\n",
    "        lossy.backward()\n",
    "        optimizer.step()\n",
    "        #print('one_step')\n",
    "        \n",
    "    print(\"Epoch: {}; Loss: {}\".format(epoch, lossy.data[0]))\n",
    "        #print('accuracy_on_training: {}'.format(evaluation(train_loader))) \n",
    "    acc0, acc1, val_acc, auc = evaluation(train_loader, gru,'gru')\n",
    "    print('accuracy_on_validation: {}, the acc for live is {}, the acc for dead is {}'.format(val_acc, acc0, acc1)) \n",
    "    accuracy_list.append(val_acc)\n",
    "    if ((epoch > 5) and ((accuracy_list[-1] < (accuracy_list[-2] - 0.01)) or (accuracy_list[-1] < (accuracy_list[-3] - 0.01)))):\n",
    "        print(\"early stop, accuracy = \", accuracy_list[-2])\n",
    "        break            "
   ]
  },
  {
   "cell_type": "markdown",
   "metadata": {
    "deletable": true,
    "editable": true
   },
   "source": []
  },
  {
   "cell_type": "code",
   "execution_count": null,
   "metadata": {
    "collapsed": true,
    "deletable": true,
    "editable": true
   },
   "outputs": [],
   "source": []
  }
 ],
 "metadata": {
  "kernelspec": {
   "display_name": "Python 3",
   "language": "python",
   "name": "python3"
  },
  "language_info": {
   "codemirror_mode": {
    "name": "ipython",
    "version": 3
   },
   "file_extension": ".py",
   "mimetype": "text/x-python",
   "name": "python",
   "nbconvert_exporter": "python",
   "pygments_lexer": "ipython3",
   "version": "3.6.0"
  }
 },
 "nbformat": 4,
 "nbformat_minor": 2
}
