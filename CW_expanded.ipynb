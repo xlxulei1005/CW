{
 "cells": [
  {
   "cell_type": "code",
   "execution_count": 14,
   "metadata": {
    "collapsed": true,
    "deletable": true,
    "editable": true
   },
   "outputs": [],
   "source": [
    "import pandas as pd\n",
    "import numpy as np\n",
    "import torch.nn as nn\n",
    "from torch.autograd import Variable\n",
    "import torch.nn.functional as F\n",
    "import torch\n",
    "from torch.utils.data import Dataset\n",
    "import matplotlib.pyplot as plt\n",
    "from collections import Counter\n",
    "from sklearn.metrics import roc_auc_score\n",
    "from clockwork_helperfunc import *\n",
    "from clockwork_helperfunc import evaluation\n",
    "import clockwork_helperfunc \n",
    "from imp import reload  \n",
    "reload(clockwork_helperfunc)\n",
    "import time\n",
    "\n",
    "#configuration\n",
    "batch_size = 5\n",
    "num_epochs = 50\n",
    "number_units = 7"
   ]
  },
  {
   "cell_type": "markdown",
   "metadata": {
    "deletable": true,
    "editable": true
   },
   "source": [
    "### Data"
   ]
  },
  {
   "cell_type": "code",
   "execution_count": 2,
   "metadata": {
    "collapsed": false,
    "deletable": true,
    "editable": true
   },
   "outputs": [],
   "source": [
    "training = pd.read_pickle('/Users/leilei/Documents/DS1005/CW/truncate_train_data.p')\n",
    "val = pd.read_pickle('/Users/leilei/Documents/DS1005/CW/truncate_valid_data.p')"
   ]
  },
  {
   "cell_type": "code",
   "execution_count": 3,
   "metadata": {
    "collapsed": false,
    "deletable": true,
    "editable": true
   },
   "outputs": [],
   "source": [
    "patient_feature_train, label_train, label_time_train = downsample(training, proportional = 2)"
   ]
  },
  {
   "cell_type": "code",
   "execution_count": 4,
   "metadata": {
    "collapsed": false,
    "deletable": true,
    "editable": true
   },
   "outputs": [
    {
     "data": {
      "text/plain": [
       "(519228, 232732)"
      ]
     },
     "execution_count": 4,
     "metadata": {},
     "output_type": "execute_result"
    }
   ],
   "source": [
    "sum(label_time_train), sum(label_train*label_time_train)"
   ]
  },
  {
   "cell_type": "code",
   "execution_count": 5,
   "metadata": {
    "collapsed": true,
    "deletable": true,
    "editable": true
   },
   "outputs": [],
   "source": [
    "patient_feature_val = val[0] #before cleaning, original data\n",
    "label_val = val[1]\n",
    "label_time_val = val[2]"
   ]
  },
  {
   "cell_type": "code",
   "execution_count": 6,
   "metadata": {
    "collapsed": false,
    "deletable": true,
    "editable": true
   },
   "outputs": [
    {
     "data": {
      "text/plain": [
       "(Counter({0: 3535, 1: 1790}), Counter({0: 4089, 1: 511}))"
      ]
     },
     "execution_count": 6,
     "metadata": {},
     "output_type": "execute_result"
    }
   ],
   "source": [
    "Counter(label_train), Counter(label_val)"
   ]
  },
  {
   "cell_type": "code",
   "execution_count": 7,
   "metadata": {
    "collapsed": false,
    "deletable": true,
    "editable": true
   },
   "outputs": [
    {
     "data": {
      "text/plain": [
       "5325"
      ]
     },
     "execution_count": 7,
     "metadata": {},
     "output_type": "execute_result"
    }
   ],
   "source": [
    "len(patient_feature_train)"
   ]
  },
  {
   "cell_type": "code",
   "execution_count": 8,
   "metadata": {
    "collapsed": false
   },
   "outputs": [
    {
     "data": {
      "text/plain": [
       "213.0"
      ]
     },
     "execution_count": 8,
     "metadata": {},
     "output_type": "execute_result"
    }
   ],
   "source": [
    "5325/25"
   ]
  },
  {
   "cell_type": "markdown",
   "metadata": {
    "deletable": true,
    "editable": true
   },
   "source": [
    "### Model"
   ]
  },
  {
   "cell_type": "code",
   "execution_count": 9,
   "metadata": {
    "collapsed": false,
    "deletable": true,
    "editable": true
   },
   "outputs": [],
   "source": [
    "### Model\n",
    "#forward\n",
    "#cell_class, step\n",
    "class Clock_NN(nn.Module):\n",
    "    def __init__(self, scale,batch_size, group_size = 1, activation_fun =nn.Tanh, mean = 0, std = 1, input_dim = 48,mode = 'shift'):\n",
    "        super(Clock_NN, self).__init__()\n",
    "        '''\n",
    "        scale: the updating frequency, a list. [1,2,4,8,16,32]\n",
    "        batch_size: the size of batch\n",
    "        group_size: the number of nodes in each scale, default is 1.\n",
    "        activation_function\n",
    "        mean: the mean of Gaussian distribution for initialize weights for hidden layer\n",
    "        std: the standard devation of the Gaussian distribution for initialize weights for hidden layer\n",
    "        input_dim: the feature dimension of each time step\n",
    "        '''\n",
    "        self.scale = scale\n",
    "        self.group_size = group_size\n",
    "        self.batch_size = batch_size\n",
    "        self.mode = mode\n",
    "        if mode == 'original':\n",
    "            self.num_units = len(self.scale)*self.group_size\n",
    "            self.index_li = {self.scale[i]: i for i in range(len(self.scale))}\n",
    "        elif mode == 'shift':\n",
    "            self.num_units = sum(self.scale)*self.group_size\n",
    "            self.index_li = {i:i-1 for i in self.scale}\n",
    "            \n",
    "        self.class_dim = 2\n",
    "        self.input_dim = input_dim\n",
    "        self.linear_h = nn.Linear(self.num_units,self.num_units)\n",
    "        self.linear_o = nn.Linear(self.num_units,self.class_dim)\n",
    "        self.linear_i = nn.Linear(self.input_dim, self.num_units)\n",
    "        self.activation_fun = activation_fun\n",
    "        self.connect = torch.from_numpy(block_tri(self.group_size, self.scale, self.num_units, self.mode)).float()\n",
    "        self.time_step = 0\n",
    "        \n",
    "        self.initial_weights(mean, std)\n",
    "        \n",
    "        #the connectivity, when we disabled the weight, this should not change\n",
    "        self.linear_h.weight.data = self.linear_h.weight.data*self.connect#here needs transpose since previously left multiplication, activate mtrx doesn't need as rewrite and select cols.\n",
    "        #self.linear_i.weight.data = self.linear_i.weight.data\n",
    "        \n",
    "    def forward(self, sequence, hidden):#depends on what passed for model.train(), to be filled)\n",
    "        '''\n",
    "        sequence: batch  x timestep x number_feature matrix\n",
    "        hidden: should be h0\n",
    "        '''     \n",
    "        #sequence = sequence.view(48,-1)when this is only one batch\n",
    "        hidden_output = []\n",
    "        length = sequence.size()[1]\n",
    "        logit = []\n",
    "        for i in range(length):\n",
    "            #print('this is the timestep ' + str(self.time_step))\n",
    "            self.time_step += 1\n",
    "            #backwards, want discharge/dead time aligns\n",
    "            #print(sequence[:,:,-i].size())#would be batch*48\n",
    "            hidden = self.CW_RNN_Cell(sequence[:,i,:].contiguous(), hidden)\n",
    "            hidden_output.append(hidden)#become batch_size x hidden_dim\n",
    "            out = self.linear_o(hidden)\n",
    "            logit.append(F.log_softmax(out))\n",
    "        return hidden_output, logit\n",
    "            \n",
    "                \n",
    "    def CW_RNN_Cell(self, x_input, hidden):\n",
    "        '''\n",
    "        x_input: number_feature x batch vector, representing one time stamp\n",
    "        hidden: output of the last cell, should be hidden_dim(i.e. num_units) x batch\n",
    "        '''\n",
    "        #which time bloack to change\n",
    "        activate = activate_index(self.time_step, self.num_units, self.group_size, self.scale,self.index_li,batch_size,self.mode, self.input_dim)\n",
    "        activate_re = torch.from_numpy(np.ones((self.batch_size,self.num_units))).float() - activate\n",
    "\n",
    "        hidden_next = self.linear_h(hidden) + self.linear_i(x_input) #should be batch_size x hidden_dim       \n",
    "        hidden_next.data = activate*hidden_next.data + activate_re*hidden.data\n",
    "        hidden_next = self.activation_fun(hidden_next)\n",
    "        return hidden_next\n",
    "\n",
    "    def init_hidden(self):\n",
    "        h0 = Variable(torch.zeros(self.batch_size,self.num_units))\n",
    "        return h0\n",
    "        \n",
    "    def initial_weights(self, mean, std):\n",
    "        lin_layers = [self.linear_h, self.linear_o, self.linear_i]\n",
    "        for layer in lin_layers:\n",
    "            layer.weight.data.normal_(mean, std**2)\n",
    "            layer.bias.data.fill_(0) "
   ]
  },
  {
   "cell_type": "code",
   "execution_count": 10,
   "metadata": {
    "collapsed": false,
    "deletable": true,
    "editable": true,
    "scrolled": false
   },
   "outputs": [
    {
     "name": "stdout",
     "output_type": "stream",
     "text": [
      "Epoch: 0; Loss: 0.6930655837059021\n",
      "accuracy_on_validation: 0.40543478260869564, the acc for LIVE is 0.3846906334067009, the acc for DEAD is 0.5714285714285714\n",
      "the auc is 0.478059602418\n",
      "Epoch: 0; Loss: 0.6932099461555481\n",
      "accuracy_on_validation: 0.43478260869565216, the acc for LIVE is 0.43237955490339935, the acc for DEAD is 0.45401174168297453\n",
      "the auc is 0.443195648293\n",
      "Epoch: 0; Loss: 0.6931344270706177\n",
      "accuracy_on_validation: 0.4810869565217391, the acc for LIVE is 0.48324773783321107, the acc for DEAD is 0.4637964774951076\n",
      "the auc is 0.473522107664\n",
      "Epoch: 1; Loss: 0.6933955550193787\n",
      "accuracy_on_validation: 0.4821739130434783, the acc for LIVE is 0.48520420640743456, the acc for DEAD is 0.45792563600782776\n",
      "the auc is 0.471564921208\n",
      "Epoch: 1; Loss: 0.6929559111595154\n",
      "accuracy_on_validation: 0.5134782608695653, the acc for LIVE is 0.5221325507459036, the acc for DEAD is 0.44422700587084146\n",
      "the auc is 0.483179778308\n",
      "Epoch: 1; Loss: 0.6925109624862671\n",
      "accuracy_on_validation: 0.5484782608695652, the acc for LIVE is 0.5693323550990462, the acc for DEAD is 0.3816046966731898\n",
      "the auc is 0.475468525886\n",
      "Epoch: 2; Loss: 0.6928404569625854\n",
      "accuracy_on_validation: 0.5558695652173913, the acc for LIVE is 0.5796038151137197, the acc for DEAD is 0.3659491193737769\n",
      "the auc is 0.472776467244\n",
      "Epoch: 2; Loss: 0.6920266151428223\n",
      "accuracy_on_validation: 0.596304347826087, the acc for LIVE is 0.6316947909024211, the acc for DEAD is 0.3131115459882583\n",
      "the auc is 0.472403168445\n",
      "Epoch: 2; Loss: 0.69424968957901\n",
      "accuracy_on_validation: 0.6352173913043478, the acc for LIVE is 0.673514306676449, the acc for DEAD is 0.3287671232876712\n",
      "the auc is 0.501140714982\n",
      "Epoch: 3; Loss: 0.6930726766586304\n",
      "accuracy_on_validation: 0.6426086956521739, the acc for LIVE is 0.6784054781120078, the acc for DEAD is 0.3561643835616438\n",
      "the auc is 0.517284930837\n",
      "Epoch: 3; Loss: 0.6915256977081299\n",
      "accuracy_on_validation: 0.6654347826086957, the acc for LIVE is 0.7084861824406945, the acc for DEAD is 0.32093933463796476\n",
      "the auc is 0.514712758539\n",
      "Epoch: 3; Loss: 0.6936432719230652\n",
      "accuracy_on_validation: 0.6819565217391305, the acc for LIVE is 0.7312301296160431, the acc for DEAD is 0.2876712328767123\n",
      "the auc is 0.509450681246\n",
      "Epoch: 4; Loss: 0.694119393825531\n",
      "accuracy_on_validation: 0.6893478260869565, the acc for LIVE is 0.7375886524822695, the acc for DEAD is 0.30332681017612523\n",
      "the auc is 0.520457731329\n",
      "Epoch: 4; Loss: 0.6931677460670471\n",
      "accuracy_on_validation: 0.7132608695652174, the acc for LIVE is 0.7679139153827341, the acc for DEAD is 0.2759295499021526\n",
      "the auc is 0.521921732642\n",
      "Epoch: 4; Loss: 0.6922112107276917\n",
      "accuracy_on_validation: 0.7323913043478261, the acc for LIVE is 0.7950599168500856, the acc for DEAD is 0.2309197651663405\n",
      "the auc is 0.512989841008\n",
      "Epoch: 5; Loss: 0.6925907731056213\n",
      "accuracy_on_validation: 0.741304347826087, the acc for LIVE is 0.8065541697236488, the acc for DEAD is 0.2191780821917808\n",
      "the auc is 0.512866125958\n",
      "Epoch: 5; Loss: 0.691444993019104\n",
      "accuracy_on_validation: 0.7517391304347826, the acc for LIVE is 0.8209831254585473, the acc for DEAD is 0.19765166340508805\n",
      "the auc is 0.509317394432\n",
      "Epoch: 5; Loss: 0.6928688883781433\n",
      "accuracy_on_validation: 0.7715217391304348, the acc for LIVE is 0.8437270726338958, the acc for DEAD is 0.19373776908023482\n",
      "the auc is 0.518732420857\n",
      "Epoch: 6; Loss: 0.6930702328681946\n",
      "accuracy_on_validation: 0.7752173913043479, the acc for LIVE is 0.851063829787234, the acc for DEAD is 0.16829745596868884\n",
      "the auc is 0.509680642878\n",
      "Epoch: 6; Loss: 0.6919341087341309\n",
      "accuracy_on_validation: 0.7910869565217391, the acc for LIVE is 0.8657373440939105, the acc for DEAD is 0.19373776908023482\n",
      "the auc is 0.529737556587\n",
      "Epoch: 6; Loss: 0.6927209496498108\n",
      "accuracy_on_validation: 0.8093478260869565, the acc for LIVE is 0.8897040841281487, the acc for DEAD is 0.16634050880626222\n",
      "the auc is 0.528022296467\n",
      "Epoch: 7; Loss: 0.6939060091972351\n",
      "accuracy_on_validation: 0.8097826086956522, the acc for LIVE is 0.892638786989484, the acc for DEAD is 0.14677103718199608\n",
      "the auc is 0.519704912086\n",
      "Epoch: 7; Loss: 0.6947948336601257\n",
      "accuracy_on_validation: 0.8197826086956522, the acc for LIVE is 0.9046221570066031, the acc for DEAD is 0.14090019569471623\n",
      "the auc is 0.522761176351\n",
      "Epoch: 7; Loss: 0.6940208077430725\n",
      "accuracy_on_validation: 0.8328260869565217, the acc for LIVE is 0.9185619955979457, the acc for DEAD is 0.14677103718199608\n",
      "the auc is 0.53266651639\n",
      "Epoch: 8; Loss: 0.6947179436683655\n",
      "accuracy_on_validation: 0.8356521739130435, the acc for LIVE is 0.9200293470286134, the acc for DEAD is 0.16046966731898238\n",
      "the auc is 0.540249507174\n",
      "Epoch: 8; Loss: 0.6916279196739197\n",
      "accuracy_on_validation: 0.8486956521739131, the acc for LIVE is 0.9356810956224015, the acc for DEAD is 0.15264187866927592\n",
      "the auc is 0.544161487146\n",
      "Epoch: 8; Loss: 0.6946442127227783\n",
      "accuracy_on_validation: 0.8495652173913043, the acc for LIVE is 0.9388603570555148, the acc for DEAD is 0.1350293542074364\n",
      "the auc is 0.536944855631\n",
      "Epoch: 9; Loss: 0.6936125159263611\n",
      "accuracy_on_validation: 0.8454347826086956, the acc for LIVE is 0.9347028613352898, the acc for DEAD is 0.13111545988258316\n",
      "the auc is 0.532909160609\n",
      "Epoch: 9; Loss: 0.6894148588180542\n",
      "accuracy_on_validation: 0.8554347826086957, the acc for LIVE is 0.946441672780631, the acc for DEAD is 0.12720156555772993\n",
      "the auc is 0.536821619169\n",
      "Epoch: 9; Loss: 0.6905643939971924\n",
      "accuracy_on_validation: 0.8573913043478261, the acc for LIVE is 0.9518219613597456, the acc for DEAD is 0.10176125244618395\n",
      "the auc is 0.526791606903\n"
     ]
    }
   ],
   "source": [
    "### Training original\n",
    "model = Clock_NN([1,2,4,8,16], batch_size, group_size = 2, activation_fun = F.tanh, mean = 0, std = 0.1, input_dim = 40, mode = 'shift')\n",
    "\n",
    "loss = torch.nn.NLLLoss(ignore_index=-1)  \n",
    "optimizer = torch.optim.Adam(model.parameters(), lr=0.000005)\n",
    "accuracy_list = []\n",
    "train_loader, validation_loader = reload_data(batch_size, patient_feature_train, label_train, label_time_train,patient_feature_val, label_val, label_time_val)\n",
    "start = time.time()\n",
    "for epoch in range(150):\n",
    "    for step, (data, label,label_time_list) in enumerate(train_loader):\n",
    "        data, label = Variable(data), Variable(label)\n",
    "        model.zero_grad()\n",
    "        hidden= model.init_hidden()\n",
    "        model.time_step = 0\n",
    "        hidden, output = model(data, hidden)\n",
    "        #now get a list of hidden and a list of outputs\n",
    "        label = label.transpose(0,1).contiguous().view(-1) \n",
    "        #should be flatten, batch_size x hidden. transpose due to below order, was batch, seq => follow up 2 down. get size batch*seq          \n",
    "        output = torch.stack(output, dim=1).view(-1, 2) \n",
    "        #print(output[-1])\n",
    "        lossy = loss(output, label)\n",
    "        lossy.backward()\n",
    "        model.linear_h.weight.grad.data = model.linear_h.weight.grad.data*model.connect\n",
    "        optimizer.step()\n",
    "                #for now debugging, to be removed\n",
    "    #print('----------------weight--------------------------------------------------------')\n",
    "    #print(model.linear_h.weight.data)\n",
    "    #print(model.linear_h.bias.data)\n",
    "        if step%100 ==0 :\n",
    "            print(\"Epoch: {}; Loss: {}\".format(epoch, lossy.data[0]))\n",
    "                #print('accuracy_on_training: {}'.format(evaluation(train_loader))) \n",
    "            acc0, acc1, val_acc, auc = evaluation(validation_loader, model)\n",
    "            print('accuracy_on_validation: {}, the acc for LIVE is {}, the acc for DEAD is {}'.format(val_acc, acc0, acc1)) \n",
    "            print('the auc is ' + str(auc))\n",
    "    #accuracy_list.append(val_acc)\n",
    "end = time.time()             "
   ]
  },
  {
   "cell_type": "code",
   "execution_count": null,
   "metadata": {
    "collapsed": false,
    "scrolled": false
   },
   "outputs": [
    {
     "name": "stdout",
     "output_type": "stream",
     "text": [
      "Epoch: 0; Loss: 0.6930354237556458\n",
      "accuracy_on_validation: 0.7002173913043478, the acc for LIVE is 0.7168011738811445, the acc for DEAD is 0.5675146771037182\n",
      "the auc is 0.642157925492\n",
      "Epoch: 0; Loss: 0.6930926442146301\n",
      "accuracy_on_validation: 0.753695652173913, the acc for LIVE is 0.7833211054047444, the acc for DEAD is 0.5166340508806262\n",
      "the auc is 0.649977578143\n",
      "Epoch: 0; Loss: 0.6929962038993835\n",
      "accuracy_on_validation: 0.7843478260869565, the acc for LIVE is 0.8178038640254341, the acc for DEAD is 0.5166340508806262\n",
      "the auc is 0.667218957453\n",
      "Epoch: 0; Loss: 0.6931266784667969\n",
      "accuracy_on_validation: 0.8234782608695652, the acc for LIVE is 0.8571777940816826, the acc for DEAD is 0.5538160469667319\n",
      "the auc is 0.705496920524\n",
      "Epoch: 0; Loss: 0.6929721236228943\n",
      "accuracy_on_validation: 0.8410869565217391, the acc for LIVE is 0.8764979212521399, the acc for DEAD is 0.5577299412915852\n",
      "the auc is 0.717113931272\n",
      "Epoch: 0; Loss: 0.6930013298988342\n",
      "accuracy_on_validation: 0.8528260869565217, the acc for LIVE is 0.8904377598434825, the acc for DEAD is 0.5518590998043053\n",
      "the auc is 0.721148429824\n",
      "Epoch: 0; Loss: 0.6938998103141785\n",
      "accuracy_on_validation: 0.8684782608695653, the acc for LIVE is 0.9097578870139399, the acc for DEAD is 0.538160469667319\n",
      "the auc is 0.723959178341\n",
      "Epoch: 0; Loss: 0.6906121969223022\n",
      "accuracy_on_validation: 0.8767391304347826, the acc for LIVE is 0.9153827341648325, the acc for DEAD is 0.5675146771037182\n",
      "the auc is 0.741448705634\n",
      "Epoch: 0; Loss: 0.6947383284568787\n",
      "accuracy_on_validation: 0.8947826086956522, the acc for LIVE is 0.9364147713377354, the acc for DEAD is 0.5616438356164384\n",
      "the auc is 0.749029303477\n",
      "Epoch: 0; Loss: 0.6932560205459595\n",
      "accuracy_on_validation: 0.8954347826086957, the acc for LIVE is 0.937882122768403, the acc for DEAD is 0.5557729941291585\n",
      "the auc is 0.746827558449\n",
      "Epoch: 0; Loss: 0.6956486105918884\n",
      "accuracy_on_validation: 0.8989130434782608, the acc for LIVE is 0.9413059427732942, the acc for DEAD is 0.5596868884540117\n",
      "the auc is 0.750496415614\n",
      "Epoch: 1; Loss: 0.6911706924438477\n",
      "accuracy_on_validation: 0.9041304347826087, the acc for LIVE is 0.9469307899241869, the acc for DEAD is 0.5616438356164384\n",
      "the auc is 0.75428731277\n",
      "Epoch: 1; Loss: 0.693812370300293\n",
      "accuracy_on_validation: 0.9054347826086957, the acc for LIVE is 0.9491318170701883, the acc for DEAD is 0.5557729941291585\n",
      "the auc is 0.7524524056\n",
      "Epoch: 1; Loss: 0.6937135457992554\n",
      "accuracy_on_validation: 0.9073913043478261, the acc for LIVE is 0.9513328442161898, the acc for DEAD is 0.5557729941291585\n",
      "the auc is 0.753552919173\n",
      "Epoch: 1; Loss: 0.6941990852355957\n",
      "accuracy_on_validation: 0.9089130434782609, the acc for LIVE is 0.954267547077525, the acc for DEAD is 0.5459882583170255\n",
      "the auc is 0.750127902697\n",
      "Epoch: 1; Loss: 0.6875003576278687\n",
      "accuracy_on_validation: 0.9147826086956522, the acc for LIVE is 0.9608706285155295, the acc for DEAD is 0.5459882583170255\n",
      "the auc is 0.753429443416\n",
      "Epoch: 1; Loss: 0.6900166273117065\n",
      "accuracy_on_validation: 0.9132608695652173, the acc for LIVE is 0.9572022499388604, the acc for DEAD is 0.5616438356164384\n",
      "the auc is 0.759423042778\n",
      "Epoch: 1; Loss: 0.6885243058204651\n",
      "accuracy_on_validation: 0.9165217391304348, the acc for LIVE is 0.9601369528001956, the acc for DEAD is 0.5675146771037182\n",
      "the auc is 0.763825814952\n",
      "Epoch: 1; Loss: 0.6858526468276978\n",
      "accuracy_on_validation: 0.9173913043478261, the acc for LIVE is 0.9616043042308633, the acc for DEAD is 0.5636007827788649\n",
      "the auc is 0.762602543505\n",
      "Epoch: 1; Loss: 0.6937975287437439\n",
      "accuracy_on_validation: 0.9169565217391304, the acc for LIVE is 0.9598923942284177, the acc for DEAD is 0.5733855185909981\n",
      "the auc is 0.76663895641\n",
      "Epoch: 1; Loss: 0.6918574571609497\n",
      "accuracy_on_validation: 0.9119565217391304, the acc for LIVE is 0.954512105649303, the acc for DEAD is 0.5714285714285714\n",
      "the auc is 0.762970338539\n",
      "Epoch: 1; Loss: 0.6912592053413391\n",
      "accuracy_on_validation: 0.9206521739130434, the acc for LIVE is 0.9642944485204207, the acc for DEAD is 0.5714285714285714\n",
      "the auc is 0.767861509974\n",
      "Epoch: 2; Loss: 0.6954326033592224\n",
      "accuracy_on_validation: 0.9221739130434783, the acc for LIVE is 0.9660063585228662, the acc for DEAD is 0.5714285714285714\n",
      "the auc is 0.768717464976\n",
      "Epoch: 2; Loss: 0.6937875747680664\n",
      "accuracy_on_validation: 0.917608695652174, the acc for LIVE is 0.9611151870873074, the acc for DEAD is 0.5694716242661448\n",
      "the auc is 0.765293405677\n",
      "Epoch: 2; Loss: 0.6869098544120789\n",
      "accuracy_on_validation: 0.9165217391304348, the acc for LIVE is 0.9603815113719736, the acc for DEAD is 0.5655577299412916\n",
      "the auc is 0.762969620657\n",
      "Epoch: 2; Loss: 0.690329372882843\n",
      "accuracy_on_validation: 0.92, the acc for LIVE is 0.9645390070921985, the acc for DEAD is 0.5636007827788649\n",
      "the auc is 0.764069894936\n",
      "Epoch: 2; Loss: 0.6879851818084717\n",
      "accuracy_on_validation: 0.9167391304347826, the acc for LIVE is 0.9608706285155295, the acc for DEAD is 0.5636007827788649\n",
      "the auc is 0.762235705647\n",
      "Epoch: 2; Loss: 0.6982296705245972\n",
      "accuracy_on_validation: 0.9189130434782609, the acc for LIVE is 0.9613597456590853, the acc for DEAD is 0.5792563600782779\n",
      "the auc is 0.770308052869\n",
      "Epoch: 2; Loss: 0.6990015506744385\n",
      "accuracy_on_validation: 0.9156521739130434, the acc for LIVE is 0.9576913670824162, the acc for DEAD is 0.5792563600782779\n",
      "the auc is 0.76847386358\n",
      "Epoch: 2; Loss: 0.6986173391342163\n"
     ]
    }
   ],
   "source": [
    "### Training\n",
    "model2 = Clock_NN([1,2,4,8,16], batch_size, group_size = 2, activation_fun = F.tanh, mean = 0, std = 0.1, input_dim = 40, mode = 'shift')\n",
    "\n",
    "loss = torch.nn.NLLLoss(ignore_index=-1)  \n",
    "optimizer = torch.optim.Adam(model2.parameters(), lr=0.000005)\n",
    "accuracy_list = []\n",
    "train_loader, validation_loader = reload_data(batch_size, patient_feature_train, label_train, label_time_train,patient_feature_val, label_val, label_time_val)\n",
    "start = time.time()\n",
    "for epoch in range(150):\n",
    "    for step, (data, label,label_time_list) in enumerate(train_loader):\n",
    "        data, label = Variable(data), Variable(label)\n",
    "        model2.zero_grad()\n",
    "        hidden= model2.init_hidden()\n",
    "        model2.time_step = 0\n",
    "        hidden, output = model2(data, hidden)\n",
    "        #now get a list of hidden and a list of outputs\n",
    "        label = label.transpose(0,1).contiguous().view(-1) \n",
    "        #should be flatten, batch_size x hidden. transpose due to below order, was batch, seq => follow up 2 down. get size batch*seq          \n",
    "        output = torch.stack(output, dim=1).view(-1, 2) \n",
    "        #print(output[-1])\n",
    "        lossy = loss(output, label)\n",
    "        lossy.backward()\n",
    "        model2.linear_h.weight.grad.data = model2.linear_h.weight.grad.data*model2.connect\n",
    "        optimizer.step()\n",
    "                #for now debugging, to be removed\n",
    "    #print('----------------weight--------------------------------------------------------')\n",
    "    #print(model.linear_h.weight.data)\n",
    "    #print(model.linear_h.bias.data)\n",
    "        if step%100 ==0 :\n",
    "            print(\"Epoch: {}; Loss: {}\".format(epoch, lossy.data[0]))\n",
    "                #print('accuracy_on_training: {}'.format(evaluation(train_loader))) \n",
    "            acc0, acc1, val_acc, auc = evaluation(validation_loader, model2)\n",
    "            print('accuracy_on_validation: {}, the acc for LIVE is {}, the acc for DEAD is {}'.format(val_acc, acc0, acc1)) \n",
    "            print('the auc is ' + str(auc))\n",
    "    #accuracy_list.append(val_acc)\n",
    "end = time.time()             "
   ]
  },
  {
   "cell_type": "code",
   "execution_count": null,
   "metadata": {
    "collapsed": true,
    "deletable": true,
    "editable": true
   },
   "outputs": [],
   "source": []
  }
 ],
 "metadata": {
  "kernelspec": {
   "display_name": "Python 3",
   "language": "python",
   "name": "python3"
  },
  "language_info": {
   "codemirror_mode": {
    "name": "ipython",
    "version": 3
   },
   "file_extension": ".py",
   "mimetype": "text/x-python",
   "name": "python",
   "nbconvert_exporter": "python",
   "pygments_lexer": "ipython3",
   "version": "3.6.0"
  }
 },
 "nbformat": 4,
 "nbformat_minor": 2
}
